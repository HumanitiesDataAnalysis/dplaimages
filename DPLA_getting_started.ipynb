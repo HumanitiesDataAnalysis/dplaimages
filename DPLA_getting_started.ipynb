{
 "cells": [
  {
   "cell_type": "markdown",
   "metadata": {
    "deletable": true,
    "editable": true
   },
   "source": [
    "### Setting up a request to the DPLA API"
   ]
  },
  {
   "cell_type": "markdown",
   "metadata": {
    "deletable": true,
    "editable": true
   },
   "source": [
    "This notebook grabs images from DPLA and feeds them through tensorflow's inception classifier.\n",
    "\n",
    "The sane thing to do would be use the penultimate layer for transfer learning. But I'm curious, first off, whether the system works at all as is. Although the Imagenet set is a little weird (lots and lots of distinct species of animal), there will be pictures of most things in the DPLA. So we can search DPLA by imagenet term for things inception should be able to recognize, and then see if inception recognizes the thing that is there.\n",
    "\n",
    "This is kind of a nice, truly out-of-sample set. \n",
    "\n",
    "I figured my way around the DPLA API using @lwrubel's notebook from github: you can still some of her code here: https://github.com/lwrubel/dplaplay. "
   ]
  },
  {
   "cell_type": "code",
   "execution_count": 14,
   "metadata": {
    "collapsed": false,
    "deletable": true,
    "editable": true
   },
   "outputs": [],
   "source": [
    "import requests\n",
    "import sys\n",
    "import tensorflow as tf\n",
    "sys.path.append(\"/home/bschmidt/tensorflow/models/tutorials/image/imagenet\")\n",
    "import classify_image\n",
    "import random\n",
    "\n",
    "%load_ext autoreload\n",
    "%autoreload 2\n",
    "import numpy as np\n",
    "import PIL.Image"
   ]
  },
  {
   "cell_type": "markdown",
   "metadata": {
    "deletable": true,
    "editable": true
   },
   "source": [
    "config.py is a file that contains contains api key as dpla_api_key"
   ]
  },
  {
   "cell_type": "code",
   "execution_count": 1,
   "metadata": {
    "collapsed": false,
    "deletable": true,
    "editable": true
   },
   "outputs": [],
   "source": [
    "from dplaimage.config import dpla_api_key"
   ]
  },
  {
   "cell_type": "code",
   "execution_count": 3,
   "metadata": {
    "collapsed": false,
    "deletable": true,
    "editable": true
   },
   "outputs": [],
   "source": []
  },
  {
   "cell_type": "markdown",
   "metadata": {
    "deletable": true,
    "editable": true
   },
   "source": [
    "There's an object to handle queries. By default, it returns search results in a random order, which I find to be really important."
   ]
  },
  {
   "cell_type": "code",
   "execution_count": 16,
   "metadata": {
    "collapsed": false,
    "deletable": true,
    "editable": true
   },
   "outputs": [],
   "source": [
    "import dplaimage.Query"
   ]
  },
  {
   "cell_type": "code",
   "execution_count": 59,
   "metadata": {
    "collapsed": false,
    "deletable": true,
    "editable": true
   },
   "outputs": [],
   "source": [
    "a = dplaimage.queries.Query()\n",
    "a.set_date_range()"
   ]
  },
  {
   "cell_type": "code",
   "execution_count": 60,
   "metadata": {
    "collapsed": false,
    "deletable": true,
    "editable": true
   },
   "outputs": [
    {
     "name": "stdout",
     "output_type": "stream",
     "text": [
      "There are 2345580 results.\n"
     ]
    }
   ],
   "source": [
    "random_image = a.__iter__().next()"
   ]
  },
  {
   "cell_type": "code",
   "execution_count": 61,
   "metadata": {
    "collapsed": false,
    "deletable": true,
    "editable": true
   },
   "outputs": [
    {
     "name": "stdout",
     "output_type": "stream",
     "text": [
      "{u'_id': u'mwdl--digcoll_uuu_11USHS_Shipler/7623', u'admin': {u'sourceResource': {u'title': u'Fred A. Carleson Car Dealer; Shipler Panorama #447'}, u'validation_message': u\"[u'http://content.lib.utah.edu/utils/getthumbnail/collection/USHS_Shipler/id/7623', u'http://content.lib.utah.edu/utils/getthumbnail/collection/USHS_Shipler/id/7623'] is not of type 'string'\", u'valid_after_enrich': False}, u'sourceResource': {u'isPartOf': u'Shipler Commercial Photographers', u'description': [u'Image shows a panoramic view of the Carleson automobile company storefront, used car lot, and adjacent Chevron station on Main Street.', u'Good condition.'], u'rights': u'Digital Image \\xa9 2002 Utah State Historical Society. All Rights Reserved.', u'@id': u'http://dp.la/api/items/dc1c031e1bc21d75ffaacbbf8bf525af#sourceResource', u'temporal': [{u'begin': u'1949-06-08', u'end': u'1949-06-08', u'displayDate': u'8 June 1949'}], u'creator': [u'Shipler Commercial Photographers', u'Shipler, Harry'], u'collection': {u'@id': u'http://dp.la/api/collections/b33a05b3eaa009ebecbfa4f05a7edbd3', u'id': u'b33a05b3eaa009ebecbfa4f05a7edbd3', u'title': u'Shipler Commercial Photographers'}, u'date': {u'begin': u'1949-06-08', u'end': u'1949-06-08', u'displayDate': u'1949-06-08'}, u'relation': u'Is part of: Shipler Commercial Photographers, Series P', u'extent': u'16.61 inches x 7.44 inches', u'spatial': [{u'county': u'Salt Lake County', u'country': u'United States', u'state': u'Utah', u'name': u'Salt Lake City', u'coordinates': u'40.76078, -111.89105'}, {u'name': u'535 South Main Street'}], u'stateLocatedIn': [{u'name': u'UT'}], u'title': u'Fred A. Carleson Car Dealer; Shipler Panorama #447', u'identifier': u'http://content.lib.utah.edu/u?/USHS_Shipler,7623', u'type': u'image', u'subject': [{u'name': u'Panoramas'}, {u'name': u'Show windows'}, {u'name': u'Antique and classic cars'}, {u'name': u'Automobiles'}, {u'name': u'City and town life'}, {u'name': u'Automobile service stations'}, {u'name': u'Fred A. Carleson Company'}, {u'name': u'Chevron'}, {u'name': u'Pontiac'}]}, u'_rev': u'12-58fa8dff617f87b4d8d24fcef0f628c5', u'object': [u'http://content.lib.utah.edu/utils/getthumbnail/collection/USHS_Shipler/id/7623', u'http://content.lib.utah.edu/utils/getthumbnail/collection/USHS_Shipler/id/7623'], u'aggregatedCHO': u'#sourceResource', u'ingestDate': u'2017-02-23T01:12:36.793138Z', u'id': u'dc1c031e1bc21d75ffaacbbf8bf525af', u'originalRecord': {u'SEARCH_ENGINE': u'Local Search Engine', u'PrimoNMBib': {u'record': {u'control': {u'sourcerecordid': u'USHS_Shipler/7623', u'sourceid': u'digcoll_uuu_11', u'sourceformat': u'Digital Entity', u'originalsourceid': u'7623', u'sourcedbandrecordid': u'USHS_Shipler', u'recordid': u'digcoll_uuu_11USHS_Shipler/7623', u'addsrcrecordid': u'uuu-11-119-1040', u'sourcesystem': u'Other'}, u'sort': {u'title': u'Fred A. Carleson Car Dealer', u'creationdate': u'1949', u'author': u'Shipler Commercial Photographers; Shipler'}, u'search': {u'sourceid': u'digcoll_uuu_11', u'recordid': u'digcoll_uuu_11USHS_Shipler/7623', u'lsr01': u'uuu', u'description': [u'Image shows a panoramic view of the Carleson automobile company storefront, used car lot, and adjacent Chevron station on Main Street.', u'Good condition.'], u'creatorcontrib': u'Shipler Commercial Photographers; Shipler, Harry', u'lsr02': u'11', u'addtitle': [u'Is part of: Shipler Commercial Photographers, Series P', u'Shipler Panorama #447'], u'lsr13': u'Shipler Commercial Photographers', u'lsr12': u'Utah State Historical Society', u'lsr15': u'Shipler Commercial Photographers, Series P', u'lsr14': [u'Utah', u'Salt Lake County', u'Salt Lake City', u'535 South Main Street'], u'lsr04': u'1040', u'addsrcrecordid': u'uuu-11-119-1040', u'lsr10': u'University of Utah J. Willard Marriott Library CONTENTdm OAI Server Repository', u'lsr09': u'University of Utah, J. Willard Marriott Library', u'rsrctype': u'images', u'title': u'Fred A. Carleson Car Dealer', u'lsr03': u'119', u'scope': [u'uu', u'mw'], u'creationdate': u'1949-06-08;2002-07-15', u'subject': [u'Panoramas; Show windows; Antique and classic cars; Automobiles; City and town life; Automobile service stations', u'Fred A. Carleson Company; Chevron; Pontiac']}, u'links': {u'linktorsrc': u'$$Tdigcoll_uuu_11_linktores$$DOpen resource in a new window', u'thumbnail': u'$$Tdigcoll_uuu_11_linktothumb$$DSee Thumbnail'}, u'addata': {u'date': u'1949', u'pub': u'Utah State Historical Society; Funded by a grant from the National Endowment for the Humanities'}, u'facets': {u'lfc08': [u'Utah', u'Salt Lake County', u'Salt Lake City', u'535 South Main Street'], u'prefilter': u'images', u'creatorcontrib': [u'Shipler Commercial Photographers', u'Shipler, Harry'], u'format': u'image/jpeg', u'lfc01': u'Shipler Commercial Photographers', u'lfc02': u'Utah State Historical Society', u'lfc03': u'University of Utah, J. Willard Marriott Library', u'lfc04': u'University of Utah J. Willard Marriott Library CONTENTdm OAI Server Repository', u'collection': u'Digital Collections', u'topic': [u'Panoramas', u'Show windows', u'Antique and classic cars', u'Automobiles', u'City and town life', u'Automobile service stations', u'Fred A. Carleson Company', u'Chevron', u'Pontiac'], u'toplevel': u'online_resources', u'frbrtype': u'6', u'genre': u'unknown', u'rsrctype': u'images', u'creationdate': [u'1949-06-08', u'2002-07-15'], u'frbrgroupid': u'316731051'}, u'delivery': {u'delcategory': u'Online Resource', u'institution': u'MWDL'}, u'ranking': {u'booster1': u'1', u'booster2': u'1'}, u'display': {u'creator': u'Shipler Commercial Photographers; Shipler, Harry', u'relation': u'Is part of: Shipler Commercial Photographers, Series P', u'subject': u'Panoramas; Show windows; Antique and classic cars; Automobiles; City and town life; Automobile service stations; Fred A. Carleson Company; Chevron; Pontiac', u'lds08': u'Utah; Salt Lake County; Salt Lake City; 535 South Main Street', u'lds09': u'8 June 1949', u'lds04': u'Shipler Commercial Photographers', u'lds05': u'16.61 inches x 7.44 inches', u'lds02': u'University of Utah J. Willard Marriott Library CONTENTdm OAI Server Repository', u'lds03': u'Utah State Historical Society', u'lds01': u'University of Utah, J. Willard Marriott Library', u'type': u'Image', u'description': [u'Image shows a panoramic view of the Carleson automobile company storefront, used car lot, and adjacent Chevron station on Main Street.', u'Good condition.'], u'format': u'image/jpeg', u'coverage': u'Utah; Salt Lake County; Salt Lake City; 535 South Main Street', u'publisher': u'Utah State Historical Society; Funded by a grant from the National Endowment for the Humanities', u'identifier': [u'39222000700539', u'http://content.lib.utah.edu/cdm/ref/collection/USHS_Shipler/id/7623'], u'lds18': u'Image', u'rights': u'Digital Image \\xa9 2002 Utah State Historical Society. All Rights Reserved.', u'lds17': u'image', u'title': u'Fred A. Carleson Car Dealer', u'lds10': u'Shipler Panorama #447', u'lds12': u'Mss C 275; Shipler Commercial Photographers Collection', u'creationdate': u'1949-06-08'}}, u'xmlns': u'http://www.exlibrisgroup.com/xsd/primo/primo_nm_bib'}, u'sear:GETIT': {u'deliveryCategory': u'Online Resource', u'GetIt2': u'http://sfx7.exlibrisgroup.com/uutah?ctx_ver=Z39.88-2004&ctx_enc=info:ofi/enc:UTF-8&ctx_tim=2017-02-21T16%3A45%3A40IST&url_ver=Z39.88-2004&url_ctx_fmt=infofi/fmt:kev:mtx:ctx&rfr_id=info:sid/primo.exlibrisgroup.com:primo3-Journal-digcoll_uuu_11&rft_val_fmt=info:ofi/fmt:kev:mtx:&rft.genre=&rft.atitle=&rft.jtitle=&rft.btitle=&rft.aulast=&rft.auinit=&rft.auinit1=&rft.auinitm=&rft.ausuffix=&rft.au=&rft.aucorp=&rft.volume=&rft.issue=&rft.part=&rft.quarter=&rft.ssn=&rft.spage=&rft.epage=&rft.pages=&rft.artnum=&rft.issn=&rft.eissn=&rft.isbn=&rft.sici=&rft.coden=&rft_id=info:doi/&rft.object_id=&rft.eisbn=&rft_dat=USHS_Shipler/7623316731051&rft_id=info:oai/&req.language=', u'GetIt1': u'http://content.lib.utah.edu/u?/USHS_Shipler,7623'}, u'NO': u'618753', u'sear:LINKS': {u'sear:thumbnail': [u'http://content.lib.utah.edu/utils/getthumbnail/collection/USHS_Shipler/id/7623', u'http://content.lib.utah.edu/utils/getthumbnail/collection/USHS_Shipler/id/7623'], u'sear:linktorsrc': u'http://content.lib.utah.edu/u?/USHS_Shipler,7623'}, u'RANK': u'0.7998073', u'SEARCH_ENGINE_TYPE': u'Local Search Engine', u'collection': {u'@id': u'http://dp.la/api/collections/b33a05b3eaa009ebecbfa4f05a7edbd3', u'id': u'b33a05b3eaa009ebecbfa4f05a7edbd3', u'title': u'Shipler Commercial Photographers'}, u'provider': {u'@id': u'http://dp.la/api/contributor/mwdl', u'name': u'Mountain West Digital Library'}, u'_id': u'digcoll_uuu_11USHS_Shipler/7623', u'ID': u'2620427'}, u'score': 2.239436, u'ingestionSequence': 26, u'isShownAt': u'http://utah-primoprod.hosted.exlibrisgroup.com/primo_library/libweb/action/dlDisplay.do?vid=MWDL&afterPDS=true&docId=digcoll_uuu_11USHS_Shipler/7623', u'provider': {u'@id': u'http://dp.la/api/contributor/mwdl', u'name': u'Mountain West Digital Library'}, u'@context': u'http://dp.la/api/items/context', u'ingestType': u'item', u'dataProvider': u'Utah State Historical Society', u'@id': u'http://dp.la/api/items/dc1c031e1bc21d75ffaacbbf8bf525af', u'@type': u'ore:Aggregation'}\n"
     ]
    }
   ],
   "source": [
    "print random_image"
   ]
  },
  {
   "cell_type": "code",
   "execution_count": null,
   "metadata": {
    "collapsed": true
   },
   "outputs": [],
   "source": [
    "And then one to handle images."
   ]
  },
  {
   "cell_type": "code",
   "execution_count": 62,
   "metadata": {
    "collapsed": false,
    "deletable": true,
    "editable": true,
    "scrolled": false
   },
   "outputs": [
    {
     "ename": "InvalidSchema",
     "evalue": "No connection adapters were found for '[u'http://content.lib.utah.edu/utils/getthumbnail/collection/USHS_Shipler/id/7623', u'http://content.lib.utah.edu/utils/getthumbnail/collection/USHS_Shipler/id/7623']'",
     "output_type": "error",
     "traceback": [
      "\u001b[0;31m\u001b[0m",
      "\u001b[0;31mInvalidSchema\u001b[0mTraceback (most recent call last)",
      "\u001b[0;32m<ipython-input-62-4de56fbc88fb>\u001b[0m in \u001b[0;36m<module>\u001b[0;34m()\u001b[0m\n\u001b[1;32m      1\u001b[0m \u001b[0;32mimport\u001b[0m \u001b[0mdplaimage\u001b[0m\u001b[0;34m.\u001b[0m\u001b[0mimages\u001b[0m\u001b[0;34m\u001b[0m\u001b[0m\n\u001b[1;32m      2\u001b[0m \u001b[0mimage\u001b[0m \u001b[0;34m=\u001b[0m \u001b[0mdplaimage\u001b[0m\u001b[0;34m.\u001b[0m\u001b[0mimages\u001b[0m\u001b[0;34m.\u001b[0m\u001b[0mImage\u001b[0m\u001b[0;34m(\u001b[0m\u001b[0mrandom_image\u001b[0m\u001b[0;34m)\u001b[0m\u001b[0;34m\u001b[0m\u001b[0m\n\u001b[0;32m----> 3\u001b[0;31m \u001b[0mimage\u001b[0m\u001b[0;34m.\u001b[0m\u001b[0mdisplay_in_ipython\u001b[0m\u001b[0;34m(\u001b[0m\u001b[0;34m)\u001b[0m\u001b[0;34m\u001b[0m\u001b[0m\n\u001b[0m",
      "\u001b[0;32m/home/bschmidt/projects/dpla_images/dplaimage/images.py\u001b[0m in \u001b[0;36mdisplay_in_ipython\u001b[0;34m(self)\u001b[0m\n\u001b[1;32m     20\u001b[0m \u001b[0;34m\u001b[0m\u001b[0m\n\u001b[1;32m     21\u001b[0m     \u001b[0;32mdef\u001b[0m \u001b[0mdisplay_in_ipython\u001b[0m\u001b[0;34m(\u001b[0m\u001b[0mself\u001b[0m\u001b[0;34m)\u001b[0m\u001b[0;34m:\u001b[0m\u001b[0;34m\u001b[0m\u001b[0m\n\u001b[0;32m---> 22\u001b[0;31m         \u001b[0mIPython\u001b[0m\u001b[0;34m.\u001b[0m\u001b[0mcore\u001b[0m\u001b[0;34m.\u001b[0m\u001b[0mdisplay\u001b[0m\u001b[0;34m.\u001b[0m\u001b[0mdisplay\u001b[0m\u001b[0;34m(\u001b[0m\u001b[0mIPython\u001b[0m\u001b[0;34m.\u001b[0m\u001b[0mcore\u001b[0m\u001b[0;34m.\u001b[0m\u001b[0mdisplay\u001b[0m\u001b[0;34m.\u001b[0m\u001b[0mImage\u001b[0m\u001b[0;34m(\u001b[0m\u001b[0mfilename\u001b[0m\u001b[0;34m=\u001b[0m\u001b[0mself\u001b[0m\u001b[0;34m.\u001b[0m\u001b[0mcache_thumbnail\u001b[0m\u001b[0;34m(\u001b[0m\u001b[0;34m)\u001b[0m\u001b[0;34m)\u001b[0m\u001b[0;34m)\u001b[0m\u001b[0;34m\u001b[0m\u001b[0m\n\u001b[0m\u001b[1;32m     23\u001b[0m \u001b[0;34m\u001b[0m\u001b[0m\n\u001b[1;32m     24\u001b[0m     \u001b[0;32mdef\u001b[0m \u001b[0mget_bottleneck_layer\u001b[0m\u001b[0;34m(\u001b[0m\u001b[0mself\u001b[0m\u001b[0;34m,\u001b[0m\u001b[0msess\u001b[0m\u001b[0;34m)\u001b[0m\u001b[0;34m:\u001b[0m\u001b[0;34m\u001b[0m\u001b[0m\n",
      "\u001b[0;32m/home/bschmidt/projects/dpla_images/dplaimage/images.py\u001b[0m in \u001b[0;36mcache_thumbnail\u001b[0;34m(self, prefix)\u001b[0m\n\u001b[1;32m     42\u001b[0m                 \u001b[0;32mreturn\u001b[0m \u001b[0mp\u001b[0m\u001b[0;34m\u001b[0m\u001b[0m\n\u001b[1;32m     43\u001b[0m \u001b[0;34m\u001b[0m\u001b[0m\n\u001b[0;32m---> 44\u001b[0;31m         \u001b[0mr\u001b[0m \u001b[0;34m=\u001b[0m \u001b[0mrequests\u001b[0m\u001b[0;34m.\u001b[0m\u001b[0mget\u001b[0m\u001b[0;34m(\u001b[0m\u001b[0murl\u001b[0m\u001b[0;34m,\u001b[0m \u001b[0mstream\u001b[0m \u001b[0;34m=\u001b[0m \u001b[0mTrue\u001b[0m\u001b[0;34m)\u001b[0m\u001b[0;34m\u001b[0m\u001b[0m\n\u001b[0m\u001b[1;32m     45\u001b[0m         \u001b[0mftype\u001b[0m \u001b[0;34m=\u001b[0m \u001b[0mr\u001b[0m\u001b[0;34m.\u001b[0m\u001b[0mheaders\u001b[0m\u001b[0;34m[\u001b[0m\u001b[0;34m\"Content-Type\"\u001b[0m\u001b[0;34m]\u001b[0m\u001b[0;34m\u001b[0m\u001b[0m\n\u001b[1;32m     46\u001b[0m \u001b[0;34m\u001b[0m\u001b[0m\n",
      "\u001b[0;32m/usr/local/lib/python2.7/dist-packages/requests/api.pyc\u001b[0m in \u001b[0;36mget\u001b[0;34m(url, params, **kwargs)\u001b[0m\n\u001b[1;32m     68\u001b[0m \u001b[0;34m\u001b[0m\u001b[0m\n\u001b[1;32m     69\u001b[0m     \u001b[0mkwargs\u001b[0m\u001b[0;34m.\u001b[0m\u001b[0msetdefault\u001b[0m\u001b[0;34m(\u001b[0m\u001b[0;34m'allow_redirects'\u001b[0m\u001b[0;34m,\u001b[0m \u001b[0mTrue\u001b[0m\u001b[0;34m)\u001b[0m\u001b[0;34m\u001b[0m\u001b[0m\n\u001b[0;32m---> 70\u001b[0;31m     \u001b[0;32mreturn\u001b[0m \u001b[0mrequest\u001b[0m\u001b[0;34m(\u001b[0m\u001b[0;34m'get'\u001b[0m\u001b[0;34m,\u001b[0m \u001b[0murl\u001b[0m\u001b[0;34m,\u001b[0m \u001b[0mparams\u001b[0m\u001b[0;34m=\u001b[0m\u001b[0mparams\u001b[0m\u001b[0;34m,\u001b[0m \u001b[0;34m**\u001b[0m\u001b[0mkwargs\u001b[0m\u001b[0;34m)\u001b[0m\u001b[0;34m\u001b[0m\u001b[0m\n\u001b[0m\u001b[1;32m     71\u001b[0m \u001b[0;34m\u001b[0m\u001b[0m\n\u001b[1;32m     72\u001b[0m \u001b[0;34m\u001b[0m\u001b[0m\n",
      "\u001b[0;32m/usr/local/lib/python2.7/dist-packages/requests/api.pyc\u001b[0m in \u001b[0;36mrequest\u001b[0;34m(method, url, **kwargs)\u001b[0m\n\u001b[1;32m     54\u001b[0m     \u001b[0;31m# cases, and look like a memory leak in others.\u001b[0m\u001b[0;34m\u001b[0m\u001b[0;34m\u001b[0m\u001b[0m\n\u001b[1;32m     55\u001b[0m     \u001b[0;32mwith\u001b[0m \u001b[0msessions\u001b[0m\u001b[0;34m.\u001b[0m\u001b[0mSession\u001b[0m\u001b[0;34m(\u001b[0m\u001b[0;34m)\u001b[0m \u001b[0;32mas\u001b[0m \u001b[0msession\u001b[0m\u001b[0;34m:\u001b[0m\u001b[0;34m\u001b[0m\u001b[0m\n\u001b[0;32m---> 56\u001b[0;31m         \u001b[0;32mreturn\u001b[0m \u001b[0msession\u001b[0m\u001b[0;34m.\u001b[0m\u001b[0mrequest\u001b[0m\u001b[0;34m(\u001b[0m\u001b[0mmethod\u001b[0m\u001b[0;34m=\u001b[0m\u001b[0mmethod\u001b[0m\u001b[0;34m,\u001b[0m \u001b[0murl\u001b[0m\u001b[0;34m=\u001b[0m\u001b[0murl\u001b[0m\u001b[0;34m,\u001b[0m \u001b[0;34m**\u001b[0m\u001b[0mkwargs\u001b[0m\u001b[0;34m)\u001b[0m\u001b[0;34m\u001b[0m\u001b[0m\n\u001b[0m\u001b[1;32m     57\u001b[0m \u001b[0;34m\u001b[0m\u001b[0m\n\u001b[1;32m     58\u001b[0m \u001b[0;34m\u001b[0m\u001b[0m\n",
      "\u001b[0;32m/usr/local/lib/python2.7/dist-packages/requests/sessions.pyc\u001b[0m in \u001b[0;36mrequest\u001b[0;34m(self, method, url, params, data, headers, cookies, files, auth, timeout, allow_redirects, proxies, hooks, stream, verify, cert, json)\u001b[0m\n\u001b[1;32m    486\u001b[0m         }\n\u001b[1;32m    487\u001b[0m         \u001b[0msend_kwargs\u001b[0m\u001b[0;34m.\u001b[0m\u001b[0mupdate\u001b[0m\u001b[0;34m(\u001b[0m\u001b[0msettings\u001b[0m\u001b[0;34m)\u001b[0m\u001b[0;34m\u001b[0m\u001b[0m\n\u001b[0;32m--> 488\u001b[0;31m         \u001b[0mresp\u001b[0m \u001b[0;34m=\u001b[0m \u001b[0mself\u001b[0m\u001b[0;34m.\u001b[0m\u001b[0msend\u001b[0m\u001b[0;34m(\u001b[0m\u001b[0mprep\u001b[0m\u001b[0;34m,\u001b[0m \u001b[0;34m**\u001b[0m\u001b[0msend_kwargs\u001b[0m\u001b[0;34m)\u001b[0m\u001b[0;34m\u001b[0m\u001b[0m\n\u001b[0m\u001b[1;32m    489\u001b[0m \u001b[0;34m\u001b[0m\u001b[0m\n\u001b[1;32m    490\u001b[0m         \u001b[0;32mreturn\u001b[0m \u001b[0mresp\u001b[0m\u001b[0;34m\u001b[0m\u001b[0m\n",
      "\u001b[0;32m/usr/local/lib/python2.7/dist-packages/requests/sessions.pyc\u001b[0m in \u001b[0;36msend\u001b[0;34m(self, request, **kwargs)\u001b[0m\n\u001b[1;32m    601\u001b[0m \u001b[0;34m\u001b[0m\u001b[0m\n\u001b[1;32m    602\u001b[0m         \u001b[0;31m# Get the appropriate adapter to use\u001b[0m\u001b[0;34m\u001b[0m\u001b[0;34m\u001b[0m\u001b[0m\n\u001b[0;32m--> 603\u001b[0;31m         \u001b[0madapter\u001b[0m \u001b[0;34m=\u001b[0m \u001b[0mself\u001b[0m\u001b[0;34m.\u001b[0m\u001b[0mget_adapter\u001b[0m\u001b[0;34m(\u001b[0m\u001b[0murl\u001b[0m\u001b[0;34m=\u001b[0m\u001b[0mrequest\u001b[0m\u001b[0;34m.\u001b[0m\u001b[0murl\u001b[0m\u001b[0;34m)\u001b[0m\u001b[0;34m\u001b[0m\u001b[0m\n\u001b[0m\u001b[1;32m    604\u001b[0m \u001b[0;34m\u001b[0m\u001b[0m\n\u001b[1;32m    605\u001b[0m         \u001b[0;31m# Start time (approximately) of the request\u001b[0m\u001b[0;34m\u001b[0m\u001b[0;34m\u001b[0m\u001b[0m\n",
      "\u001b[0;32m/usr/local/lib/python2.7/dist-packages/requests/sessions.pyc\u001b[0m in \u001b[0;36mget_adapter\u001b[0;34m(self, url)\u001b[0m\n\u001b[1;32m    683\u001b[0m \u001b[0;34m\u001b[0m\u001b[0m\n\u001b[1;32m    684\u001b[0m         \u001b[0;31m# Nothing matches :-/\u001b[0m\u001b[0;34m\u001b[0m\u001b[0;34m\u001b[0m\u001b[0m\n\u001b[0;32m--> 685\u001b[0;31m         \u001b[0;32mraise\u001b[0m \u001b[0mInvalidSchema\u001b[0m\u001b[0;34m(\u001b[0m\u001b[0;34m\"No connection adapters were found for '%s'\"\u001b[0m \u001b[0;34m%\u001b[0m \u001b[0murl\u001b[0m\u001b[0;34m)\u001b[0m\u001b[0;34m\u001b[0m\u001b[0m\n\u001b[0m\u001b[1;32m    686\u001b[0m \u001b[0;34m\u001b[0m\u001b[0m\n\u001b[1;32m    687\u001b[0m     \u001b[0;32mdef\u001b[0m \u001b[0mclose\u001b[0m\u001b[0;34m(\u001b[0m\u001b[0mself\u001b[0m\u001b[0;34m)\u001b[0m\u001b[0;34m:\u001b[0m\u001b[0;34m\u001b[0m\u001b[0m\n",
      "\u001b[0;31mInvalidSchema\u001b[0m: No connection adapters were found for '[u'http://content.lib.utah.edu/utils/getthumbnail/collection/USHS_Shipler/id/7623', u'http://content.lib.utah.edu/utils/getthumbnail/collection/USHS_Shipler/id/7623']'"
     ]
    }
   ],
   "source": [
    "import dplaimage.images\n",
    "image = dplaimage.images.Image(random_image)\n",
    "image.display_in_ipython()"
   ]
  },
  {
   "cell_type": "code",
   "execution_count": null,
   "metadata": {
    "collapsed": false,
    "deletable": true,
    "editable": true
   },
   "outputs": [],
   "source": []
  },
  {
   "cell_type": "code",
   "execution_count": null,
   "metadata": {
    "collapsed": false,
    "deletable": true,
    "editable": true,
    "scrolled": false
   },
   "outputs": [],
   "source": []
  },
  {
   "cell_type": "markdown",
   "metadata": {
    "deletable": true,
    "editable": true
   },
   "source": [
    "## Tensorflow prep\n",
    "\n",
    "In order to feed arbitrary image types into tensorflow, I\n",
    "\n",
    "1. Use the response header to determine the file type, and save it to disk by the id.\n",
    "2. Use the PIL library to load it in as a numpy matrix.\n",
    "3. Convert to RGB if it's in two-channel black and white.\n",
    "4. Feed it into a later point in the tensorflow graph (described [here](https://stackoverflow.com/questions/34484148/feeding-image-data-in-tensorflow-for-transfer-learning))."
   ]
  },
  {
   "cell_type": "code",
   "execution_count": 56,
   "metadata": {
    "collapsed": false,
    "deletable": true,
    "editable": true
   },
   "outputs": [],
   "source": [
    "import os\n",
    "\n",
    "\n",
    "def cache_download(doc,prefix=\"downloads\"):\n",
    "    \"\"\"\n",
    "    Given a DPLA document record, return the file location if it's already been\n",
    "    downloaded: otherwise, \n",
    "    \"\"\"\n",
    "    image = doc['object']\n",
    "    identifier = doc['id']\n",
    "    url = doc[\"object\"]\n",
    "    for suffix in [\"png\",\"jpg\"]:\n",
    "        p = \"{}/{}.{}\".format(prefix,identifier,suffix)\n",
    "        if os.path.exists(p):\n",
    "            return p\n",
    "            \n",
    "    print doc[\"object\"]\n",
    "    r = requests.get(url, stream = True)\n",
    "    ftype = r.headers[\"Content-Type\"]\n",
    "\n",
    "    with open(\"{}/{}.{}\".format(prefix,identifier,ftypes[ftype]), 'wb') as fd:\n",
    "        for chunk in r.iter_content(400):\n",
    "            fd.write(chunk)\n",
    "    return \"{}/{}.{}\".format(prefix,identifier,ftypes[ftype])\n",
    "\n",
    "\n",
    "def image_data(doc):\n",
    "    image = PIL.Image.open(cache_download(doc))\n",
    "    \"\"\"\n",
    "    prediction = sess.run(softmax_tensor, {'DecodeJpeg:0': image_array})\n",
    "    \"\"\"\n",
    "\n",
    "    if len(np.array(image).shape) == 2:\n",
    "        image = np.tile(np.expand_dims(np.array(image),2),3)\n",
    "\n",
    "    image_array = np.array(image)[:, :, 0:3]  # Select RGB channels only.\n",
    "    return image_array\n",
    "\n"
   ]
  },
  {
   "cell_type": "markdown",
   "metadata": {
    "deletable": true,
    "editable": true
   },
   "source": [
    "Code from Google's Imagenet library, altered to work with black and white and multiple formats of input."
   ]
  },
  {
   "cell_type": "code",
   "execution_count": 7,
   "metadata": {
    "collapsed": false,
    "deletable": true,
    "editable": true
   },
   "outputs": [],
   "source": [
    "# Creates graph from saved GraphDef.\n",
    "\n",
    "from argparse import Namespace\n",
    "\n",
    "FLAGS = Namespace(\n",
    "    model_dir = \"/home/bschmidt/tensorflow/models/tutorials/image/imagenet/imagenet/\"\n",
    ")\n",
    "\n",
    "classify_image.create_graph(FLAGS)\n",
    "node_lookup = classify_image.NodeLookup(FLAGS = FLAGS)\n"
   ]
  },
  {
   "cell_type": "markdown",
   "metadata": {
    "deletable": true,
    "editable": true
   },
   "source": [
    "Use an interactive session."
   ]
  },
  {
   "cell_type": "code",
   "execution_count": 99,
   "metadata": {
    "collapsed": false,
    "deletable": true,
    "editable": true
   },
   "outputs": [],
   "source": [
    "\n",
    "sess = tf.InteractiveSession()\n",
    "# Some useful tensors:\n",
    "# 'softmax:0': A tensor containing the normalized prediction across\n",
    "#   1000 labels.\n",
    "# 'pool_3:0': A tensor containing the next-to-last layer containing 2048\n",
    "#   float description of the image.\n",
    "# 'DecodeJpeg/contents:0': A tensor containing a string providing JPEG\n",
    "#   encoding of the image.\n",
    "# Runs the softmax tensor by feeding the image_data as input to the graph.\n",
    "bottleneck = sess.graph.get_tensor_by_name('pool_3:0')\n",
    "softmax_tensor = sess.graph.get_tensor_by_name('softmax:0')\n"
   ]
  },
  {
   "cell_type": "code",
   "execution_count": 35,
   "metadata": {
    "collapsed": false,
    "deletable": true,
    "editable": true
   },
   "outputs": [
    {
     "name": "stderr",
     "output_type": "stream",
     "text": [
      "[autoreload of dplaimage failed: Traceback (most recent call last):\n",
      "  File \"/usr/local/lib/python2.7/dist-packages/IPython/extensions/autoreload.py\", line 247, in check\n",
      "    superreload(m, reload, self.old_objects)\n",
      "ImportError: No module named Query\n",
      "]\n"
     ]
    },
    {
     "ename": "NameError",
     "evalue": "name 'DPLA_Image' is not defined",
     "output_type": "error",
     "traceback": [
      "\u001b[0;31m\u001b[0m",
      "\u001b[0;31mNameError\u001b[0mTraceback (most recent call last)",
      "\u001b[0;32m<ipython-input-35-75d843201e8a>\u001b[0m in \u001b[0;36m<module>\u001b[0;34m()\u001b[0m\n\u001b[1;32m      1\u001b[0m \u001b[0;34m\u001b[0m\u001b[0m\n\u001b[0;32m----> 2\u001b[0;31m \u001b[0ma\u001b[0m \u001b[0;34m=\u001b[0m \u001b[0mDPLA_Image\u001b[0m\u001b[0;34m(\u001b[0m\u001b[0mrandom_\u001b[0m\u001b[0;34m.\u001b[0m\u001b[0mnext\u001b[0m\u001b[0;34m(\u001b[0m\u001b[0;34m)\u001b[0m\u001b[0;34m)\u001b[0m\u001b[0;34m\u001b[0m\u001b[0m\n\u001b[0m\u001b[1;32m      3\u001b[0m \u001b[0ma\u001b[0m\u001b[0;34m.\u001b[0m\u001b[0mdisplay_in_ipython\u001b[0m\u001b[0;34m(\u001b[0m\u001b[0;34m)\u001b[0m\u001b[0;34m\u001b[0m\u001b[0m\n\u001b[1;32m      4\u001b[0m \u001b[0m_\u001b[0m \u001b[0;34m=\u001b[0m \u001b[0ma\u001b[0m\u001b[0;34m.\u001b[0m\u001b[0minfer_imagenet_labels\u001b[0m\u001b[0;34m(\u001b[0m\u001b[0msess\u001b[0m\u001b[0;34m)\u001b[0m\u001b[0;34m\u001b[0m\u001b[0m\n",
      "\u001b[0;31mNameError\u001b[0m: name 'DPLA_Image' is not defined"
     ]
    }
   ],
   "source": [
    "\n",
    "a = DPLA_Image(random_.next())\n",
    "a.display_in_ipython()\n",
    "_ = a.infer_imagenet_labels(sess)"
   ]
  },
  {
   "cell_type": "code",
   "execution_count": 114,
   "metadata": {
    "collapsed": false,
    "deletable": true,
    "editable": true
   },
   "outputs": [
    {
     "name": "stdout",
     "output_type": "stream",
     "text": [
      "web site, website, internet site, site (score = 0.1716)\n",
      "book jacket, dust cover, dust jacket, dust wrapper (score = 0.0995)\n",
      "comic book (score = 0.0454)\n",
      "envelope (score = 0.0428)\n",
      "binder, ring-binder (score = 0.0356)\n",
      "jersey, T-shirt, tee shirt (score = 0.0226)\n",
      "sweatshirt (score = 0.0217)\n"
     ]
    }
   ],
   "source": [
    "_ = a.infer_imagenet_labels(sess)"
   ]
  },
  {
   "cell_type": "code",
   "execution_count": 100,
   "metadata": {
    "collapsed": false,
    "deletable": true,
    "editable": true
   },
   "outputs": [
    {
     "ename": "NameError",
     "evalue": "global name 'image_array' is not defined",
     "output_type": "error",
     "traceback": [
      "\u001b[0;31m\u001b[0m",
      "\u001b[0;31mNameError\u001b[0mTraceback (most recent call last)",
      "\u001b[0;32m<ipython-input-100-d5548f4b823f>\u001b[0m in \u001b[0;36m<module>\u001b[0;34m()\u001b[0m\n\u001b[0;32m----> 1\u001b[0;31m \u001b[0ma\u001b[0m\u001b[0;34m.\u001b[0m\u001b[0mget_bottleneck_layer\u001b[0m\u001b[0;34m(\u001b[0m\u001b[0msess\u001b[0m\u001b[0;34m)\u001b[0m\u001b[0;34m\u001b[0m\u001b[0m\n\u001b[0m",
      "\u001b[0;32m<ipython-input-43-742394f9fcca>\u001b[0m in \u001b[0;36mget_bottleneck_layer\u001b[0;34m(self, sess)\u001b[0m\n\u001b[1;32m     12\u001b[0m         \u001b[0;32mif\u001b[0m \u001b[0mself\u001b[0m\u001b[0;34m.\u001b[0m\u001b[0membedding\u001b[0m \u001b[0;32mis\u001b[0m \u001b[0;32mnot\u001b[0m \u001b[0mNone\u001b[0m\u001b[0;34m:\u001b[0m\u001b[0;34m\u001b[0m\u001b[0m\n\u001b[1;32m     13\u001b[0m             \u001b[0;32mreturn\u001b[0m \u001b[0mself\u001b[0m\u001b[0;34m.\u001b[0m\u001b[0membedding\u001b[0m\u001b[0;34m\u001b[0m\u001b[0m\n\u001b[0;32m---> 14\u001b[0;31m         \u001b[0msess\u001b[0m\u001b[0;34m.\u001b[0m\u001b[0mrun\u001b[0m\u001b[0;34m(\u001b[0m\u001b[0mbottleneck\u001b[0m\u001b[0;34m,\u001b[0m\u001b[0;34m{\u001b[0m\u001b[0;34m'DecodeJpeg:0'\u001b[0m\u001b[0;34m:\u001b[0m \u001b[0mimage_array\u001b[0m\u001b[0;34m}\u001b[0m\u001b[0;34m)\u001b[0m\u001b[0;34m\u001b[0m\u001b[0m\n\u001b[0m\u001b[1;32m     15\u001b[0m \u001b[0;34m\u001b[0m\u001b[0m\n\u001b[1;32m     16\u001b[0m     \u001b[0;32mdef\u001b[0m \u001b[0mcache_thumbnail\u001b[0m\u001b[0;34m(\u001b[0m\u001b[0mself\u001b[0m\u001b[0;34m,\u001b[0m\u001b[0mprefix\u001b[0m\u001b[0;34m=\u001b[0m\u001b[0;34m\"thumbnails\"\u001b[0m\u001b[0;34m)\u001b[0m\u001b[0;34m:\u001b[0m\u001b[0;34m\u001b[0m\u001b[0m\n",
      "\u001b[0;31mNameError\u001b[0m: global name 'image_array' is not defined"
     ]
    }
   ],
   "source": [
    "a.get_bottleneck_layer(sess)"
   ]
  },
  {
   "cell_type": "code",
   "execution_count": 56,
   "metadata": {
    "collapsed": false,
    "deletable": true,
    "editable": true
   },
   "outputs": [
    {
     "name": "stdout",
     "output_type": "stream",
     "text": [
      "There are 2497530 results.\n"
     ]
    },
    {
     "data": {
      "image/jpeg": "[encoded data removed]",
      "text/plain": [
       "<IPython.core.display.Image object>"
      ]
     },
     "metadata": {},
     "output_type": "display_data"
    },
    {
     "name": "stdout",
     "output_type": "stream",
     "text": [
      "beach wagon, station wagon, wagon, estate car, beach waggon, station waggon, waggon (score = 0.3591)\n",
      "web site, website, internet site, site (score = 0.1939)\n",
      "comic book (score = 0.0584)\n",
      "book jacket, dust cover, dust jacket, dust wrapper (score = 0.0278)\n",
      "minivan (score = 0.0152)\n",
      "car wheel (score = 0.0129)\n",
      "convertible (score = 0.0114)\n"
     ]
    },
    {
     "data": {
      "text/plain": [
       "[(0.35907421,\n",
       "  'beach wagon, station wagon, wagon, estate car, beach waggon, station waggon, waggon'),\n",
       " (0.19392698, 'web site, website, internet site, site'),\n",
       " (0.05843585, 'comic book'),\n",
       " (0.027844349, 'book jacket, dust cover, dust jacket, dust wrapper'),\n",
       " (0.015169095, 'minivan'),\n",
       " (0.012876519, 'car wheel'),\n",
       " (0.011355089, 'convertible')]"
      ]
     },
     "execution_count": 56,
     "metadata": {},
     "output_type": "execute_result"
    }
   ],
   "source": [
    "random_ = random_iterator()\n",
    "\n",
    "a = DPLA_Image(random_.next())\n",
    "a.display_in_ipython()\n",
    "_ = a.infer_imagenet_labels()\n"
   ]
  },
  {
   "cell_type": "code",
   "execution_count": 78,
   "metadata": {
    "collapsed": false,
    "deletable": true,
    "editable": true
   },
   "outputs": [
    {
     "data": {
      "image/jpeg": "[encoded data removed]",
      "text/plain": [
       "<IPython.core.display.Image object>"
      ]
     },
     "metadata": {},
     "output_type": "display_data"
    },
    {
     "name": "stdout",
     "output_type": "stream",
     "text": [
      "iPod (score = 0.2734)\n",
      "puck, hockey puck (score = 0.0686)\n",
      "face powder (score = 0.0648)\n",
      "safety pin (score = 0.0192)\n",
      "slide rule, slipstick (score = 0.0139)\n",
      "neck brace (score = 0.0111)\n",
      "web site, website, internet site, site (score = 0.0108)\n"
     ]
    }
   ],
   "source": [
    "a = DPLA_Image(random_.next())\n",
    "a.display_in_ipython()\n",
    "_ = a.infer_imagenet_labels()\n"
   ]
  },
  {
   "cell_type": "code",
   "execution_count": 95,
   "metadata": {
    "collapsed": false,
    "deletable": true,
    "editable": true
   },
   "outputs": [
    {
     "data": {
      "image/jpeg": "[encoded data removed]",
      "text/plain": [
       "<IPython.core.display.Image object>"
      ]
     },
     "metadata": {},
     "output_type": "display_data"
    },
    {
     "name": "stdout",
     "output_type": "stream",
     "text": [
      "jellyfish (score = 0.4335)\n",
      "screen, CRT screen (score = 0.0434)\n",
      "matchstick (score = 0.0365)\n",
      "isopod (score = 0.0349)\n",
      "electric ray, crampfish, numbfish, torpedo (score = 0.0222)\n",
      "syringe (score = 0.0154)\n",
      "analog clock (score = 0.0096)\n"
     ]
    }
   ],
   "source": [
    "a = DPLA_Image(random_.next())\n",
    "a.display_in_ipython()\n",
    "_ = a.infer_imagenet_labels()\n"
   ]
  },
  {
   "cell_type": "code",
   "execution_count": 11,
   "metadata": {
    "collapsed": false,
    "deletable": true,
    "editable": true
   },
   "outputs": [],
   "source": [
    "def predictions(image_array,n=7,verbose = True):\n",
    "    # This is altered from the original code to take a numpy array of rgb channels, \n",
    "    # and to return an array.\n",
    "    predictions = sess.run(softmax_tensor,\n",
    "                       {'DecodeJpeg:0': image_array})\n",
    "    predictions = np.squeeze(predictions)\n",
    "\n",
    "    # Creates node ID --> English string lookup.\n",
    "\n",
    "    top_k = predictions.argsort()[-n:][::-1]\n",
    "    prediction_list = []\n",
    "    for node_id in top_k:\n",
    "        human_string = node_lookup.id_to_string(node_id)\n",
    "        score = predictions[node_id]\n",
    "        prediction_list.append((score,human_string))\n",
    "        if verbose:\n",
    "            print('%s (score = %.4f)' % (human_string, score))\n",
    "    return prediction_list"
   ]
  },
  {
   "cell_type": "code",
   "execution_count": 12,
   "metadata": {
    "collapsed": false,
    "deletable": true,
    "editable": true
   },
   "outputs": [],
   "source": [
    "def run_predictions(doc):\n",
    "    \"\"\"\n",
    "    actually run the predictions\n",
    "    \"\"\"\n",
    "   # doc = response[\"docs\"][0]\n",
    "    import IPython.core.display\n",
    "    url = doc[\"object\"]\n",
    "    IPython.core.display.display(IPython.core.display.Image(url = url))\n",
    "    predictions(image_data(doc))\n",
    "\n",
    "def random_key():\n",
    "    keys = [v for k,v in node_lookup.node_lookup.iteritems()]\n",
    "    return random.choice(random.choice(keys).split(\",\"))\n",
    "\n",
    "def query_on_random_key(ask_for_evaluation = True):\n",
    "    key = random_key()\n",
    "    iterator = dpla_iterator(query, subject = key)\n",
    "    try:\n",
    "        nextup = iterator.next()\n",
    "    except ValueError:\n",
    "        print \"No results for {}, trying again.\".format(key)\n",
    "        return query_on_random_key()\n",
    "    print \"Using {} as search term\".format(key)\n",
    "    \n",
    "    predictions = run_predictions(nextup)\n",
    "    if ask_for_evaluation:\n",
    "        print raw_input(\"\\nMANUAL EVALUATION\\n\")\n",
    "        print \"\\n\\n\"\n"
   ]
  },
  {
   "cell_type": "code",
   "execution_count": 13,
   "metadata": {
    "collapsed": false,
    "deletable": true,
    "editable": true,
    "scrolled": false
   },
   "outputs": [
    {
     "name": "stdout",
     "output_type": "stream",
     "text": [
      "There are 91 results.\n",
      "Using mosque as search term\n"
     ]
    },
    {
     "data": {
      "text/html": [
       "<img src=\"http://digitallibrary.usc.edu/utils/getthumbnail/collection/p15799coll123/id/97491\"/>"
      ],
      "text/plain": [
       "<IPython.core.display.Image object>"
      ]
     },
     "metadata": {},
     "output_type": "display_data"
    },
    {
     "name": "stdout",
     "output_type": "stream",
     "text": [
      "http://digitallibrary.usc.edu/utils/getthumbnail/collection/p15799coll123/id/97491\n",
      "mosque (score = 0.82676)\n",
      "beacon, lighthouse, beacon light, pharos (score = 0.05753)\n",
      "monastery (score = 0.01755)\n",
      "castle (score = 0.00869)\n",
      "pedestal, plinth, footstall (score = 0.00818)\n",
      "palace (score = 0.00269)\n",
      "prison, prison house (score = 0.00184)\n",
      "\n",
      "MANUAL EVALUATION\n",
      "Looks like a mosque to me! But I guess it's a monastery, based on the collection. Interesting mistake!\n",
      "Looks like a mosque to me! But I guess it's a monastery, based on the collection. Interesting mistake!\n",
      "\n",
      "\n",
      "\n",
      "There are 208 results.\n",
      "Using grocery store as search term\n"
     ]
    },
    {
     "data": {
      "text/html": [
       "<img src=\"http://americanart.si.edu/images/1983/1983.63.1375_1d.jpg\"/>"
      ],
      "text/plain": [
       "<IPython.core.display.Image object>"
      ]
     },
     "metadata": {},
     "output_type": "display_data"
    },
    {
     "name": "stdout",
     "output_type": "stream",
     "text": [
      "http://americanart.si.edu/images/1983/1983.63.1375_1d.jpg\n",
      "passenger car, coach, carriage (score = 0.20644)\n",
      "steel drum (score = 0.05543)\n",
      "espresso maker (score = 0.04094)\n",
      "pool table, billiard table, snooker table (score = 0.04002)\n",
      "grand piano, grand (score = 0.03327)\n",
      "microwave, microwave oven (score = 0.02537)\n",
      "barber chair (score = 0.02480)\n",
      "\n",
      "MANUAL EVALUATION\n",
      "Yeah, grocery stores are different nowadays\n",
      "Yeah, grocery stores are different nowadays\n",
      "\n",
      "\n",
      "\n",
      "There are 0 results.\n",
      "No results for  daddy longlegs, trying again.\n",
      "There are 697 results.\n",
      "Using cliff as search term\n"
     ]
    },
    {
     "data": {
      "text/html": [
       "<img src=\"http://cdm16694.contentdm.oclc.org/utils/getthumbnail/collection/p15281coll19/id/1675\"/>"
      ],
      "text/plain": [
       "<IPython.core.display.Image object>"
      ]
     },
     "metadata": {},
     "output_type": "display_data"
    },
    {
     "name": "stdout",
     "output_type": "stream",
     "text": [
      "http://cdm16694.contentdm.oclc.org/utils/getthumbnail/collection/p15281coll19/id/1675\n",
      "fire screen, fireguard (score = 0.21378)\n",
      "window shade (score = 0.12663)\n",
      "window screen (score = 0.05437)\n",
      "monastery (score = 0.04364)\n",
      "shoji (score = 0.01493)\n",
      "prison, prison house (score = 0.01435)\n",
      "oscilloscope, scope, cathode-ray oscilloscope, CRO (score = 0.01309)\n",
      "\n",
      "MANUAL EVALUATION\n",
      "ImageNet doesn't know about stained glass, I guess?\n",
      "ImageNet doesn't know about stained glass, I guess?\n",
      "\n",
      "\n",
      "\n",
      "There are 0 results.\n",
      "No results for sunscreen, trying again.\n",
      "There are 101 results.\n",
      "Using  sawmill as search term\n"
     ]
    },
    {
     "data": {
      "text/html": [
       "<img src=\"https://thumbnails.calisphere.org/clip/150x150/eaf3ddcf05d085771c2679af44e811b1\"/>"
      ],
      "text/plain": [
       "<IPython.core.display.Image object>"
      ]
     },
     "metadata": {},
     "output_type": "display_data"
    },
    {
     "name": "stdout",
     "output_type": "stream",
     "text": [
      "https://thumbnails.calisphere.org/clip/150x150/eaf3ddcf05d085771c2679af44e811b1\n",
      "trailer truck, tractor trailer, trucking rig, rig, articulated lorry, semi (score = 0.58278)\n",
      "thresher, thrasher, threshing machine (score = 0.13166)\n",
      "tow truck, tow car, wrecker (score = 0.10390)\n",
      "snowplow, snowplough (score = 0.01836)\n",
      "lumbermill, sawmill (score = 0.01353)\n",
      "moving van (score = 0.00526)\n",
      "crane (score = 0.00504)\n",
      "\n",
      "MANUAL EVALUATION\n",
      "Yeah, I think this is a win.\n",
      "Yeah, I think this is a win.\n",
      "\n",
      "\n",
      "\n",
      "There are 0 results.\n",
      "No results for  Cacatua galerita, trying again.\n",
      "There are 0 results.\n",
      "No results for  Salamandra salamandra, trying again.\n",
      "There are 0 results.\n",
      "No results for Scotch terrier, trying again.\n",
      "There are 0 results.\n",
      "No results for airliner, trying again.\n",
      "There are 0 results.\n",
      "No results for  hammerhead shark, trying again.\n",
      "There are 12 results.\n",
      "Using meat loaf as search term\n"
     ]
    },
    {
     "data": {
      "text/html": [
       "<img src=\"https://thumbnails.calisphere.org/clip/150x150/a17ad58373cf1ea29c9dc0839d60f011\"/>"
      ],
      "text/plain": [
       "<IPython.core.display.Image object>"
      ]
     },
     "metadata": {},
     "output_type": "display_data"
    },
    {
     "name": "stdout",
     "output_type": "stream",
     "text": [
      "https://thumbnails.calisphere.org/clip/150x150/a17ad58373cf1ea29c9dc0839d60f011\n",
      "cleaver, meat cleaver, chopper (score = 0.86227)\n",
      "wok (score = 0.03729)\n",
      "dough (score = 0.02302)\n",
      "tobacco shop, tobacconist shop, tobacconist (score = 0.01001)\n",
      "potter's wheel (score = 0.00852)\n",
      "spatula (score = 0.00654)\n",
      "hatchet (score = 0.00345)\n",
      "\n",
      "MANUAL EVALUATION\n",
      "I mean, fascinating that it gets to meat cleaver *instead* of dough.\n",
      "I mean, fascinating that it gets to meat cleaver *instead* of dough.\n",
      "\n",
      "\n",
      "\n"
     ]
    }
   ],
   "source": [
    "for i in range(5):\n",
    "    query_on_random_key()"
   ]
  },
  {
   "cell_type": "code",
   "execution_count": 13,
   "metadata": {
    "collapsed": false,
    "deletable": true,
    "editable": true,
    "scrolled": false
   },
   "outputs": [
    {
     "name": "stdout",
     "output_type": "stream",
     "text": [
      "There are 26 results.\n",
      "Using  Cebus capucinus as search term\n"
     ]
    },
    {
     "data": {
      "text/html": [
       "<img src=\"http://collections.nmnh.si.edu/media/?irn=10393840&thumb=yes\"/>"
      ],
      "text/plain": [
       "<IPython.core.display.Image object>"
      ]
     },
     "metadata": {},
     "output_type": "display_data"
    },
    {
     "name": "stdout",
     "output_type": "stream",
     "text": [
      "http://collections.nmnh.si.edu/media/?irn=10393840&thumb=yes\n",
      "digital clock (score = 0.13414)\n",
      "nematode, nematode worm, roundworm (score = 0.09512)\n",
      "matchstick (score = 0.08165)\n",
      "jack-o'-lantern (score = 0.07624)\n",
      "spotlight, spot (score = 0.03178)\n",
      "candle, taper, wax light (score = 0.02272)\n",
      "theater curtain, theatre curtain (score = 0.01670)\n",
      "\n",
      "MANUAL EVALUATION\n",
      "Wrong. The classifier seems to be a little thrown by the type of image we're seeing here.\n",
      "Wrong. The classifier seems to be a little thrown by the type of image we're seeing here.\n",
      "\n",
      "\n",
      "\n",
      "There are 0 results.\n",
      "No results for head cabbage, trying again.\n",
      "There are 0 results.\n",
      "No results for grey whale, trying again.\n",
      "There are 49 results.\n",
      "Using bookcase as search term\n"
     ]
    },
    {
     "data": {
      "text/html": [
       "<img src=\"http://npg.si.edu/media/192X192/9100356C_1.jpg\"/>"
      ],
      "text/plain": [
       "<IPython.core.display.Image object>"
      ]
     },
     "metadata": {},
     "output_type": "display_data"
    },
    {
     "name": "stdout",
     "output_type": "stream",
     "text": [
      "http://npg.si.edu/media/192X192/9100356C_1.jpg\n",
      "bow tie, bow-tie, bowtie (score = 0.50121)\n",
      "barbershop (score = 0.19904)\n",
      "wall clock (score = 0.03428)\n",
      "barber chair (score = 0.02932)\n",
      "groom, bridegroom (score = 0.01816)\n",
      "barometer (score = 0.01531)\n",
      "suit, suit of clothes (score = 0.01060)\n",
      "\n",
      "MANUAL EVALUATION\n",
      "Amazing. This man is indeed wearing a bow tie, though you can't tell it from the image resolution here; it seems like there's just something tweedy about the surroundings.\n",
      "Amazing. This man is indeed wearing a bow tie, though you can't tell it from the image resolution here; it seems like there's just something tweedy about the surroundings.\n",
      "\n",
      "\n",
      "\n",
      "There are 0 results.\n",
      "No results for wallaby, trying again.\n",
      "There are 9 results.\n",
      "Using ram as search term\n"
     ]
    },
    {
     "data": {
      "text/html": [
       "<img src=\"https://thumbnails.calisphere.org/clip/150x150/84543c4106a4ce1f6a61c66636cea65d\"/>"
      ],
      "text/plain": [
       "<IPython.core.display.Image object>"
      ]
     },
     "metadata": {},
     "output_type": "display_data"
    },
    {
     "name": "stdout",
     "output_type": "stream",
     "text": [
      "https://thumbnails.calisphere.org/clip/150x150/84543c4106a4ce1f6a61c66636cea65d\n",
      "jinrikisha, ricksha, rickshaw (score = 0.08664)\n",
      "mobile home, manufactured home (score = 0.05750)\n",
      "maze, labyrinth (score = 0.04366)\n",
      "planetarium (score = 0.04313)\n",
      "park bench (score = 0.03689)\n",
      "airship, dirigible (score = 0.02681)\n",
      "bannister, banister, balustrade, balusters, handrail (score = 0.02647)\n",
      "\n",
      "MANUAL EVALUATION\n",
      "Not a ram, that's for sure... Rickshaw isn't a terrible guess. But who knows.\n",
      "Not a ram, that's for sure... Rickshaw isn't a terrible guess. But who knows.\n",
      "\n",
      "\n",
      "\n",
      "There are 146 results.\n",
      "Using umbrella as search term\n"
     ]
    },
    {
     "data": {
      "text/html": [
       "<img src=\"http://digitallibrary.usc.edu/utils/getthumbnail/collection/p15799coll123/id/47216\"/>"
      ],
      "text/plain": [
       "<IPython.core.display.Image object>"
      ]
     },
     "metadata": {},
     "output_type": "display_data"
    },
    {
     "name": "stdout",
     "output_type": "stream",
     "text": [
      "http://digitallibrary.usc.edu/utils/getthumbnail/collection/p15799coll123/id/47216\n",
      "thresher, thrasher, threshing machine (score = 0.31130)\n",
      "book jacket, dust cover, dust jacket, dust wrapper (score = 0.06515)\n",
      "seashore, coast, seacoast, sea-coast (score = 0.04749)\n",
      "lakeside, lakeshore (score = 0.04743)\n",
      "tobacco shop, tobacconist shop, tobacconist (score = 0.03916)\n",
      "mobile home, manufactured home (score = 0.03445)\n",
      "worm fence, snake fence, snake-rail fence, Virginia fence (score = 0.03123)\n",
      "\n",
      "MANUAL EVALUATION\n",
      "Extremely wrong\n",
      "Extremely wrong\n",
      "\n",
      "\n",
      "\n",
      "There are 0 results.\n",
      "No results for French loaf, trying again.\n",
      "There are 44 results.\n",
      "Using  bullet as search term\n"
     ]
    },
    {
     "data": {
      "text/html": [
       "<img src=\"http://npg.si.edu/media/pa_03_6_1.jpg\"/>"
      ],
      "text/plain": [
       "<IPython.core.display.Image object>"
      ]
     },
     "metadata": {},
     "output_type": "display_data"
    },
    {
     "name": "stdout",
     "output_type": "stream",
     "text": [
      "http://npg.si.edu/media/pa_03_6_1.jpg\n",
      "Band Aid (score = 0.68960)\n",
      "sweatshirt (score = 0.02330)\n",
      "mask (score = 0.01638)\n",
      "seat belt, seatbelt (score = 0.00891)\n",
      "buckle (score = 0.00869)\n",
      "ice lolly, lolly, lollipop, popsicle (score = 0.00716)\n",
      "ski mask (score = 0.00621)\n",
      "\n",
      "MANUAL EVALUATION\n",
      "First off, wow: that image is pretty shocking.\n",
      "First off, wow: that image is pretty shocking.\n",
      "\n",
      "\n",
      "\n"
     ]
    }
   ],
   "source": [
    "for i in range(5):\n",
    "    query_on_random_key()"
   ]
  },
  {
   "cell_type": "code",
   "execution_count": 14,
   "metadata": {
    "collapsed": false,
    "deletable": true,
    "editable": true
   },
   "outputs": [
    {
     "name": "stdout",
     "output_type": "stream",
     "text": [
      "There are 0 results.\n",
      "No results for  hyaena, trying again.\n",
      "There are 0 results.\n",
      "No results for jigsaw puzzle, trying again.\n",
      "There are 0 results.\n",
      "No results for bulletproof vest, trying again.\n",
      "There are 0 results.\n",
      "No results for cliff dwelling, trying again.\n",
      "There are 11 results.\n",
      "Using birdhouse as search term\n"
     ]
    },
    {
     "data": {
      "text/html": [
       "<img src=\"http://americanart.si.edu/images/1983/1983.63.1824_1d.jpg\"/>"
      ],
      "text/plain": [
       "<IPython.core.display.Image object>"
      ]
     },
     "metadata": {},
     "output_type": "display_data"
    },
    {
     "name": "stdout",
     "output_type": "stream",
     "text": [
      "http://americanart.si.edu/images/1983/1983.63.1824_1d.jpg\n",
      "maillot, tank suit (score = 0.08691)\n",
      "steel drum (score = 0.07802)\n",
      "marimba, xylophone (score = 0.04214)\n",
      "bicycle-built-for-two, tandem bicycle, tandem (score = 0.03247)\n",
      "stage (score = 0.02857)\n",
      "sarong (score = 0.02339)\n",
      "acoustic guitar (score = 0.01753)\n",
      "\n",
      "MANUAL EVALUATION\n",
      "Not a tank suit, but also not recognizable as a birdhouse.\n",
      "Not a tank suit, but also not recognizable as a birdhouse.\n",
      "\n",
      "\n",
      "\n",
      "There are 8 results.\n",
      "Using poncho as search term\n"
     ]
    },
    {
     "ename": "AttributeError",
     "evalue": "'list' object has no attribute 'split'",
     "output_type": "error",
     "traceback": [
      "\u001b[0;31m\u001b[0m",
      "\u001b[0;31mAttributeError\u001b[0mTraceback (most recent call last)",
      "\u001b[0;32m<ipython-input-14-0a260a59a97c>\u001b[0m in \u001b[0;36m<module>\u001b[0;34m()\u001b[0m\n\u001b[1;32m      1\u001b[0m \u001b[0;32mfor\u001b[0m \u001b[0mi\u001b[0m \u001b[0;32min\u001b[0m \u001b[0mrange\u001b[0m\u001b[0;34m(\u001b[0m\u001b[0;36m5\u001b[0m\u001b[0;34m)\u001b[0m\u001b[0;34m:\u001b[0m\u001b[0;34m\u001b[0m\u001b[0m\n\u001b[0;32m----> 2\u001b[0;31m     \u001b[0mquery_on_random_key\u001b[0m\u001b[0;34m(\u001b[0m\u001b[0;34m)\u001b[0m\u001b[0;34m\u001b[0m\u001b[0m\n\u001b[0m",
      "\u001b[0;32m<ipython-input-12-6f5559cb955b>\u001b[0m in \u001b[0;36mquery_on_random_key\u001b[0;34m(ask_for_evaluation)\u001b[0m\n\u001b[1;32m     23\u001b[0m     \u001b[0;32mprint\u001b[0m \u001b[0;34m\"Using {} as search term\"\u001b[0m\u001b[0;34m.\u001b[0m\u001b[0mformat\u001b[0m\u001b[0;34m(\u001b[0m\u001b[0mkey\u001b[0m\u001b[0;34m)\u001b[0m\u001b[0;34m\u001b[0m\u001b[0m\n\u001b[1;32m     24\u001b[0m \u001b[0;34m\u001b[0m\u001b[0m\n\u001b[0;32m---> 25\u001b[0;31m     \u001b[0mpredictions\u001b[0m \u001b[0;34m=\u001b[0m \u001b[0mrun_predictions\u001b[0m\u001b[0;34m(\u001b[0m\u001b[0mnextup\u001b[0m\u001b[0;34m)\u001b[0m\u001b[0;34m\u001b[0m\u001b[0m\n\u001b[0m\u001b[1;32m     26\u001b[0m     \u001b[0;32mif\u001b[0m \u001b[0mask_for_evaluation\u001b[0m\u001b[0;34m:\u001b[0m\u001b[0;34m\u001b[0m\u001b[0m\n\u001b[1;32m     27\u001b[0m         \u001b[0;32mprint\u001b[0m \u001b[0mraw_input\u001b[0m\u001b[0;34m(\u001b[0m\u001b[0;34m\"\\nMANUAL EVALUATION\\n\"\u001b[0m\u001b[0;34m)\u001b[0m\u001b[0;34m\u001b[0m\u001b[0m\n",
      "\u001b[0;32m<ipython-input-12-6f5559cb955b>\u001b[0m in \u001b[0;36mrun_predictions\u001b[0;34m(doc)\u001b[0m\n\u001b[1;32m      6\u001b[0m     \u001b[0;32mimport\u001b[0m \u001b[0mIPython\u001b[0m\u001b[0;34m.\u001b[0m\u001b[0mcore\u001b[0m\u001b[0;34m.\u001b[0m\u001b[0mdisplay\u001b[0m\u001b[0;34m\u001b[0m\u001b[0m\n\u001b[1;32m      7\u001b[0m     \u001b[0murl\u001b[0m \u001b[0;34m=\u001b[0m \u001b[0mdoc\u001b[0m\u001b[0;34m[\u001b[0m\u001b[0;34m\"object\"\u001b[0m\u001b[0;34m]\u001b[0m\u001b[0;34m\u001b[0m\u001b[0m\n\u001b[0;32m----> 8\u001b[0;31m     \u001b[0mIPython\u001b[0m\u001b[0;34m.\u001b[0m\u001b[0mcore\u001b[0m\u001b[0;34m.\u001b[0m\u001b[0mdisplay\u001b[0m\u001b[0;34m.\u001b[0m\u001b[0mdisplay\u001b[0m\u001b[0;34m(\u001b[0m\u001b[0mIPython\u001b[0m\u001b[0;34m.\u001b[0m\u001b[0mcore\u001b[0m\u001b[0;34m.\u001b[0m\u001b[0mdisplay\u001b[0m\u001b[0;34m.\u001b[0m\u001b[0mImage\u001b[0m\u001b[0;34m(\u001b[0m\u001b[0murl\u001b[0m \u001b[0;34m=\u001b[0m \u001b[0murl\u001b[0m\u001b[0;34m)\u001b[0m\u001b[0;34m)\u001b[0m\u001b[0;34m\u001b[0m\u001b[0m\n\u001b[0m\u001b[1;32m      9\u001b[0m     \u001b[0mpredictions\u001b[0m\u001b[0;34m(\u001b[0m\u001b[0mimage_data\u001b[0m\u001b[0;34m(\u001b[0m\u001b[0mdoc\u001b[0m\u001b[0;34m)\u001b[0m\u001b[0;34m)\u001b[0m\u001b[0;34m\u001b[0m\u001b[0m\n\u001b[1;32m     10\u001b[0m \u001b[0;34m\u001b[0m\u001b[0m\n",
      "\u001b[0;32m/usr/local/lib/python2.7/dist-packages/IPython/core/display.pyc\u001b[0m in \u001b[0;36m__init__\u001b[0;34m(self, data, url, filename, format, embed, width, height, retina, unconfined, metadata)\u001b[0m\n\u001b[1;32m    714\u001b[0m             \u001b[0mext\u001b[0m \u001b[0;34m=\u001b[0m \u001b[0mself\u001b[0m\u001b[0;34m.\u001b[0m\u001b[0m_find_ext\u001b[0m\u001b[0;34m(\u001b[0m\u001b[0mfilename\u001b[0m\u001b[0;34m)\u001b[0m\u001b[0;34m\u001b[0m\u001b[0m\n\u001b[1;32m    715\u001b[0m         \u001b[0;32melif\u001b[0m \u001b[0murl\u001b[0m \u001b[0;32mis\u001b[0m \u001b[0;32mnot\u001b[0m \u001b[0mNone\u001b[0m\u001b[0;34m:\u001b[0m\u001b[0;34m\u001b[0m\u001b[0m\n\u001b[0;32m--> 716\u001b[0;31m             \u001b[0mext\u001b[0m \u001b[0;34m=\u001b[0m \u001b[0mself\u001b[0m\u001b[0;34m.\u001b[0m\u001b[0m_find_ext\u001b[0m\u001b[0;34m(\u001b[0m\u001b[0murl\u001b[0m\u001b[0;34m)\u001b[0m\u001b[0;34m\u001b[0m\u001b[0m\n\u001b[0m\u001b[1;32m    717\u001b[0m         \u001b[0;32melif\u001b[0m \u001b[0mdata\u001b[0m \u001b[0;32mis\u001b[0m \u001b[0mNone\u001b[0m\u001b[0;34m:\u001b[0m\u001b[0;34m\u001b[0m\u001b[0m\n\u001b[1;32m    718\u001b[0m             \u001b[0;32mraise\u001b[0m \u001b[0mValueError\u001b[0m\u001b[0;34m(\u001b[0m\u001b[0;34m\"No image data found. Expecting filename, url, or data.\"\u001b[0m\u001b[0;34m)\u001b[0m\u001b[0;34m\u001b[0m\u001b[0m\n",
      "\u001b[0;32m/usr/local/lib/python2.7/dist-packages/IPython/core/display.pyc\u001b[0m in \u001b[0;36m_find_ext\u001b[0;34m(self, s)\u001b[0m\n\u001b[1;32m    823\u001b[0m \u001b[0;34m\u001b[0m\u001b[0m\n\u001b[1;32m    824\u001b[0m     \u001b[0;32mdef\u001b[0m \u001b[0m_find_ext\u001b[0m\u001b[0;34m(\u001b[0m\u001b[0mself\u001b[0m\u001b[0;34m,\u001b[0m \u001b[0ms\u001b[0m\u001b[0;34m)\u001b[0m\u001b[0;34m:\u001b[0m\u001b[0;34m\u001b[0m\u001b[0m\n\u001b[0;32m--> 825\u001b[0;31m         \u001b[0;32mreturn\u001b[0m \u001b[0municode_type\u001b[0m\u001b[0;34m(\u001b[0m\u001b[0ms\u001b[0m\u001b[0;34m.\u001b[0m\u001b[0msplit\u001b[0m\u001b[0;34m(\u001b[0m\u001b[0;34m'.'\u001b[0m\u001b[0;34m)\u001b[0m\u001b[0;34m[\u001b[0m\u001b[0;34m-\u001b[0m\u001b[0;36m1\u001b[0m\u001b[0;34m]\u001b[0m\u001b[0;34m.\u001b[0m\u001b[0mlower\u001b[0m\u001b[0;34m(\u001b[0m\u001b[0;34m)\u001b[0m\u001b[0;34m)\u001b[0m\u001b[0;34m\u001b[0m\u001b[0m\n\u001b[0m\u001b[1;32m    826\u001b[0m \u001b[0;34m\u001b[0m\u001b[0m\n\u001b[1;32m    827\u001b[0m \u001b[0;32mclass\u001b[0m \u001b[0mVideo\u001b[0m\u001b[0;34m(\u001b[0m\u001b[0mDisplayObject\u001b[0m\u001b[0;34m)\u001b[0m\u001b[0;34m:\u001b[0m\u001b[0;34m\u001b[0m\u001b[0m\n",
      "\u001b[0;31mAttributeError\u001b[0m: 'list' object has no attribute 'split'"
     ]
    }
   ],
   "source": [
    "for i in range(5):\n",
    "    query_on_random_key()"
   ]
  },
  {
   "cell_type": "code",
   "execution_count": 322,
   "metadata": {
    "collapsed": false,
    "deletable": true,
    "editable": true,
    "scrolled": false
   },
   "outputs": [
    {
     "name": "stdout",
     "output_type": "stream",
     "text": [
      "There are 412 results.\n",
      "Using  horn as search term\n"
     ]
    },
    {
     "data": {
      "text/html": [
       "<img src=\"http://collections.nmnh.si.edu/media/?irn=11354247&thumb=yes\"/>"
      ],
      "text/plain": [
       "<IPython.core.display.Image object>"
      ]
     },
     "metadata": {},
     "output_type": "display_data"
    },
    {
     "name": "stdout",
     "output_type": "stream",
     "text": [
      "http://collections.nmnh.si.edu/media/?irn=11354247&thumb=yes\n",
      "web site, website, internet site, site (score = 0.23723)\n",
      "binder, ring-binder (score = 0.14296)\n",
      "book jacket, dust cover, dust jacket, dust wrapper (score = 0.07848)\n",
      "fire screen, fireguard (score = 0.04599)\n",
      "laptop, laptop computer (score = 0.03670)\n",
      "wall clock (score = 0.03351)\n",
      "screen, CRT screen (score = 0.02629)\n",
      "\n",
      "MANUAL EVALUATION\n",
      "Totally wrong, but isn't DPLA wrong too?\n",
      "Totally wrong, but isn't DPLA wrong too?\n",
      "\n",
      "\n",
      "\n",
      "There are 0 results.\n",
      "No results for  hyena dog, trying again.\n",
      "There are 0 results.\n",
      "No results for head cabbage, trying again.\n",
      "There are 11 results.\n",
      "Using rocking chair as search term\n"
     ]
    },
    {
     "data": {
      "text/html": [
       "<img src=\"http://npg.si.edu/media/8000754C_1.jpg\"/>"
      ],
      "text/plain": [
       "<IPython.core.display.Image object>"
      ]
     },
     "metadata": {},
     "output_type": "display_data"
    },
    {
     "name": "stdout",
     "output_type": "stream",
     "text": [
      "http://npg.si.edu/media/8000754C_1.jpg\n",
      "rocking chair, rocker (score = 0.43317)\n",
      "barrow, garden cart, lawn cart, wheelbarrow (score = 0.24201)\n",
      "tricycle, trike, velocipede (score = 0.07513)\n",
      "swing (score = 0.04224)\n",
      "cello, violoncello (score = 0.01204)\n",
      "park bench (score = 0.01108)\n",
      "folding chair (score = 0.00675)\n",
      "\n",
      "MANUAL EVALUATION\n",
      "Correct! And with high file size, so maybe we need more of that.\n",
      "Correct! And with high file size, so maybe we need more of that.\n",
      "\n",
      "\n",
      "\n",
      "There are 2 results.\n",
      "Using toucan as search term\n"
     ]
    },
    {
     "data": {
      "text/html": [
       "<img src=\"http://digital.lib.utk.edu/collections/islandora/object/heilman%3A992/datastream/TN/view\"/>"
      ],
      "text/plain": [
       "<IPython.core.display.Image object>"
      ]
     },
     "metadata": {},
     "output_type": "display_data"
    },
    {
     "name": "stdout",
     "output_type": "stream",
     "text": [
      "http://digital.lib.utk.edu/collections/islandora/object/heilman%3A992/datastream/TN/view\n",
      "binder, ring-binder (score = 0.14226)\n",
      "packet (score = 0.12937)\n",
      "fire screen, fireguard (score = 0.09914)\n",
      "velvet (score = 0.06068)\n",
      "lampshade, lamp shade (score = 0.05751)\n",
      "table lamp (score = 0.03630)\n",
      "screen, CRT screen (score = 0.02444)\n",
      "\n",
      "MANUAL EVALUATION\n",
      "What a weird mistake. But is that a toucan?\n",
      "What a weird mistake. But is that a toucan?\n",
      "\n",
      "\n",
      "\n",
      "There are 0 results.\n",
      "No results for combination lock, trying again.\n",
      "There are 0 results.\n",
      "No results for  anole, trying again.\n",
      "There are 65 results.\n",
      "Using swing as search term\n"
     ]
    },
    {
     "data": {
      "text/html": [
       "<img src=\"https://thumbnails.calisphere.org/clip/150x150/cda2e460d3a0e485ed3fbee99b513477\"/>"
      ],
      "text/plain": [
       "<IPython.core.display.Image object>"
      ]
     },
     "metadata": {},
     "output_type": "display_data"
    },
    {
     "name": "stdout",
     "output_type": "stream",
     "text": [
      "https://thumbnails.calisphere.org/clip/150x150/cda2e460d3a0e485ed3fbee99b513477\n",
      "prison, prison house (score = 0.24451)\n",
      "cassette (score = 0.17558)\n",
      "book jacket, dust cover, dust jacket, dust wrapper (score = 0.06776)\n",
      "shopping basket (score = 0.03140)\n",
      "passenger car, coach, carriage (score = 0.02466)\n",
      "scoreboard (score = 0.01801)\n",
      "fire screen, fireguard (score = 0.01488)\n",
      "\n",
      "MANUAL EVALUATION\n",
      "This poor child! It is a swing, but we're seeing prison from: the black and white?\\nThe bars of the negative?\n",
      "This poor child! It is a swing, but we're seeing prison from: the black and white?\\nThe bars of the negative?\n",
      "\n",
      "\n",
      "\n",
      "There are 26 results.\n",
      "Using fur coat as search term\n"
     ]
    },
    {
     "data": {
      "text/html": [
       "<img src=\"http://npg.si.edu/media/192X192/A7000484B.jpg\"/>"
      ],
      "text/plain": [
       "<IPython.core.display.Image object>"
      ]
     },
     "metadata": {},
     "output_type": "display_data"
    },
    {
     "name": "stdout",
     "output_type": "stream",
     "text": [
      "http://npg.si.edu/media/192X192/A7000484B.jpg\n",
      "book jacket, dust cover, dust jacket, dust wrapper (score = 0.84187)\n",
      "web site, website, internet site, site (score = 0.03595)\n",
      "comic book (score = 0.00829)\n",
      "fur coat (score = 0.00821)\n",
      "cloak (score = 0.00781)\n",
      "grand piano, grand (score = 0.00465)\n",
      "abaya (score = 0.00359)\n",
      "\n",
      "MANUAL EVALUATION\n",
      "It sorta notices the fur coat, but the letters over the top makes it convinced it has to be some kind of media. (Multiple assignment is not possible here, remember).\n",
      "It sorta notices the fur coat, but the letters over the top makes it convinced it has to be some kind of media. (Multiple assignment is not possible here, remember).\n",
      "\n",
      "\n",
      "\n"
     ]
    }
   ],
   "source": [
    "for i in range(5):\n",
    "    query_on_random_key()"
   ]
  },
  {
   "cell_type": "code",
   "execution_count": 324,
   "metadata": {
    "collapsed": false,
    "deletable": true,
    "editable": true
   },
   "outputs": [
    {
     "name": "stdout",
     "output_type": "stream",
     "text": [
      "There are 128 results.\n",
      "Using badger as search term\n"
     ]
    },
    {
     "data": {
      "text/html": [
       "<img src=\"http://collections.nmnh.si.edu/media/?irn=38723&thumb=yes\"/>"
      ],
      "text/plain": [
       "<IPython.core.display.Image object>"
      ]
     },
     "metadata": {},
     "output_type": "display_data"
    },
    {
     "name": "stdout",
     "output_type": "stream",
     "text": [
      "http://collections.nmnh.si.edu/media/?irn=38723&thumb=yes\n",
      "slide rule, slipstick (score = 0.51586)\n",
      "oboe, hautboy, hautbois (score = 0.04763)\n",
      "flute, transverse flute (score = 0.02599)\n",
      "menu (score = 0.01378)\n",
      "binder, ring-binder (score = 0.01126)\n",
      "bassoon (score = 0.00934)\n",
      "web site, website, internet site, site (score = 0.00901)\n",
      "\n",
      "MANUAL EVALUATION\n",
      "OK, that's not a badger, that's like an index card. But why would it be listed as a slide rule?\n",
      "OK, that's not a badger, that's like an index card. But why would it be listed as a slide rule?\n",
      "\n",
      "\n",
      "\n",
      "There are 23 results.\n",
      "Using  white shark as search term\n"
     ]
    },
    {
     "data": {
      "text/html": [
       "<img src=\"https://thumbnails.calisphere.org/clip/150x150/49bc9b4295e07fc8e1bd72e59abfe157\"/>"
      ],
      "text/plain": [
       "<IPython.core.display.Image object>"
      ]
     },
     "metadata": {},
     "output_type": "display_data"
    },
    {
     "name": "stdout",
     "output_type": "stream",
     "text": [
      "https://thumbnails.calisphere.org/clip/150x150/49bc9b4295e07fc8e1bd72e59abfe157\n",
      "stretcher (score = 0.72098)\n",
      "bobsled, bobsleigh, bob (score = 0.02305)\n",
      "ox (score = 0.01891)\n",
      "balance beam, beam (score = 0.01118)\n",
      "sea lion (score = 0.00984)\n",
      "great white shark, white shark, man-eater, man-eating shark, Carcharodon carcharias (score = 0.00831)\n",
      "lumbermill, sawmill (score = 0.00752)\n",
      "\n",
      "MANUAL EVALUATION\n",
      "I mean, it's supine, and low down in the results it tosses a guess at Great White Shark, but this isn't great.\n",
      "I mean, it's supine, and low down in the results it tosses a guess at Great White Shark, but this isn't great.\n",
      "\n",
      "\n",
      "\n",
      "There are 4 results.\n",
      "Using shopping basket as search term\n"
     ]
    },
    {
     "data": {
      "text/html": [
       "<img src=\"https://thumbnails.calisphere.org/clip/150x150/00ff626191caa4af5544fabaa2fafd24\"/>"
      ],
      "text/plain": [
       "<IPython.core.display.Image object>"
      ]
     },
     "metadata": {},
     "output_type": "display_data"
    },
    {
     "name": "stdout",
     "output_type": "stream",
     "text": [
      "https://thumbnails.calisphere.org/clip/150x150/00ff626191caa4af5544fabaa2fafd24\n",
      "cannon (score = 0.13236)\n",
      "tank, army tank, armored combat vehicle, armoured combat vehicle (score = 0.10416)\n",
      "breakwater, groin, groyne, mole, bulwark, seawall, jetty (score = 0.08406)\n",
      "thresher, thrasher, threshing machine (score = 0.05975)\n",
      "hay (score = 0.03682)\n",
      "tractor (score = 0.03462)\n",
      "worm fence, snake fence, snake-rail fence, Virginia fence (score = 0.02271)\n",
      "\n",
      "MANUAL EVALUATION\n",
      "Nobody wins on this one.\n",
      "Nobody wins on this one.\n",
      "\n",
      "\n",
      "\n",
      "There are 0 results.\n",
      "No results for sea snake, trying again.\n",
      "There are 7 results.\n",
      "Using  trolley car as search term\n"
     ]
    },
    {
     "data": {
      "text/html": [
       "<img src=\"https://thumbnails.calisphere.org/clip/150x150/1bfe69efe793e384567291350141d71a\"/>"
      ],
      "text/plain": [
       "<IPython.core.display.Image object>"
      ]
     },
     "metadata": {},
     "output_type": "display_data"
    },
    {
     "name": "stdout",
     "output_type": "stream",
     "text": [
      "https://thumbnails.calisphere.org/clip/150x150/1bfe69efe793e384567291350141d71a\n",
      "book jacket, dust cover, dust jacket, dust wrapper (score = 0.13684)\n",
      "rule, ruler (score = 0.10964)\n",
      "fireboat (score = 0.06510)\n",
      "screen, CRT screen (score = 0.04866)\n",
      "container ship, containership, container vessel (score = 0.03920)\n",
      "fountain (score = 0.03520)\n",
      "monitor (score = 0.02634)\n",
      "\n",
      "MANUAL EVALUATION\n",
      "Book jacket and ruler are both common results when there's a border. Some pre-cropping might be good here.\n",
      "Book jacket and ruler are both common results when there's a border. Some pre-cropping might be good here.\n",
      "\n",
      "\n",
      "\n",
      "There are 4960 results.\n",
      "Using television as search term\n"
     ]
    },
    {
     "data": {
      "text/html": [
       "<img src=\"http://credo.library.umass.edu/images/resize/300x300/mums834-b002-f26-i015-001.png\"/>"
      ],
      "text/plain": [
       "<IPython.core.display.Image object>"
      ]
     },
     "metadata": {},
     "output_type": "display_data"
    },
    {
     "name": "stdout",
     "output_type": "stream",
     "text": [
      "http://credo.library.umass.edu/images/resize/300x300/mums834-b002-f26-i015-001.png\n",
      "cowboy boot (score = 0.18367)\n",
      "miniskirt, mini (score = 0.07054)\n",
      "sock (score = 0.06981)\n",
      "fur coat (score = 0.04957)\n",
      "park bench (score = 0.03653)\n",
      "crutch (score = 0.02502)\n",
      "curly-coated retriever (score = 0.02416)\n",
      "\n",
      "MANUAL EVALUATION\n",
      "That is not a picture of a television. It seems to see that these are people in clothes, and throw random guesses about the kind of clothing they're wearing\n",
      "That is not a picture of a television. It seems to see that these are people in clothes, and throw random guesses about the kind of clothing they're wearing\n",
      "\n",
      "\n",
      "\n"
     ]
    }
   ],
   "source": [
    "for i in range(5):\n",
    "    query_on_random_key()"
   ]
  },
  {
   "cell_type": "code",
   "execution_count": 325,
   "metadata": {
    "collapsed": false,
    "deletable": true,
    "editable": true,
    "scrolled": false
   },
   "outputs": [
    {
     "name": "stdout",
     "output_type": "stream",
     "text": [
      "There are 3 results.\n",
      "Using mongoose as search term\n"
     ]
    },
    {
     "data": {
      "text/html": [
       "<img src=\"http://digicoll.library.wisc.edu/Primate/data/images/MmBib/PCLArts/PCLA2000/thumb/PCLA1931t.jpg\"/>"
      ],
      "text/plain": [
       "<IPython.core.display.Image object>"
      ]
     },
     "metadata": {},
     "output_type": "display_data"
    },
    {
     "name": "stdout",
     "output_type": "stream",
     "text": [
      "http://digicoll.library.wisc.edu/Primate/data/images/MmBib/PCLArts/PCLA2000/thumb/PCLA1931t.jpg\n",
      "fox squirrel, eastern fox squirrel, Sciurus niger (score = 0.94318)\n",
      "indri, indris, Indri indri, Indri brevicaudatus (score = 0.01302)\n",
      "mousetrap (score = 0.01218)\n",
      "Madagascar cat, ring-tailed lemur, Lemur catta (score = 0.00364)\n",
      "grey fox, gray fox, Urocyon cinereoargenteus (score = 0.00335)\n",
      "triceratops (score = 0.00230)\n",
      "mink (score = 0.00114)\n",
      "\n",
      "MANUAL EVALUATION\n",
      "This should be easy, but is quite wrong! The tree branch must be confusing it?\n",
      "This should be easy, but is quite wrong! The tree branch must be confusing it?\n",
      "\n",
      "\n",
      "\n",
      "There are 5 results.\n",
      "Using window screen as search term\n"
     ]
    },
    {
     "data": {
      "text/html": [
       "<img src=\"https://thumbnails.calisphere.org/clip/150x150/16ef5e9789f57b96b6ccea432273d352\"/>"
      ],
      "text/plain": [
       "<IPython.core.display.Image object>"
      ]
     },
     "metadata": {},
     "output_type": "display_data"
    },
    {
     "name": "stdout",
     "output_type": "stream",
     "text": [
      "https://thumbnails.calisphere.org/clip/150x150/16ef5e9789f57b96b6ccea432273d352\n",
      "beaker (score = 0.10505)\n",
      "hourglass (score = 0.07387)\n",
      "book jacket, dust cover, dust jacket, dust wrapper (score = 0.05974)\n",
      "dishwasher, dish washer, dishwashing machine (score = 0.05239)\n",
      "vending machine (score = 0.04815)\n",
      "screen, CRT screen (score = 0.04145)\n",
      "television, television system (score = 0.03500)\n",
      "\n",
      "MANUAL EVALUATION\n",
      "Who knows. Junk all around.\n",
      "Who knows. Junk all around.\n",
      "\n",
      "\n",
      "\n",
      "There are 106 results.\n",
      "Using balloon as search term\n"
     ]
    },
    {
     "data": {
      "text/html": [
       "<img src=\"https://texashistory.unt.edu/ark:/67531/metapth301985/thumbnail/\"/>"
      ],
      "text/plain": [
       "<IPython.core.display.Image object>"
      ]
     },
     "metadata": {},
     "output_type": "display_data"
    },
    {
     "name": "stdout",
     "output_type": "stream",
     "text": [
      "https://texashistory.unt.edu/ark:/67531/metapth301985/thumbnail/\n",
      "home theater, home theatre (score = 0.28710)\n",
      "television, television system (score = 0.26845)\n",
      "screen, CRT screen (score = 0.23062)\n",
      "entertainment center (score = 0.04646)\n",
      "monitor (score = 0.02613)\n",
      "theater curtain, theatre curtain (score = 0.01382)\n",
      "book jacket, dust cover, dust jacket, dust wrapper (score = 0.00638)\n",
      "\n",
      "MANUAL EVALUATION\n",
      "Error!\n",
      "Error!\n",
      "\n",
      "\n",
      "\n",
      "There are 0 results.\n",
      "No results for Bernese mountain dog, trying again.\n",
      "There are 0 results.\n",
      "No results for  sand viper, trying again.\n",
      "There are 57 results.\n",
      "Using dough as search term\n"
     ]
    },
    {
     "data": {
      "text/html": [
       "<img src=\"http://dlg.galileo.usg.edu/gcfa/gtaa/do-th:gtaa87-78-0000009\"/>"
      ],
      "text/plain": [
       "<IPython.core.display.Image object>"
      ]
     },
     "metadata": {},
     "output_type": "display_data"
    },
    {
     "name": "stdout",
     "output_type": "stream",
     "text": [
      "http://dlg.galileo.usg.edu/gcfa/gtaa/do-th:gtaa87-78-0000009\n",
      "spatula (score = 0.08786)\n",
      "restaurant, eating house, eating place, eatery (score = 0.03052)\n",
      "library (score = 0.02525)\n",
      "solar dish, solar collector, solar furnace (score = 0.02474)\n",
      "desk (score = 0.01928)\n",
      "stove (score = 0.01880)\n",
      "plane, carpenter's plane, woodworking plane (score = 0.01452)\n",
      "\n",
      "MANUAL EVALUATION\n",
      "Kind of. There is a spatula there.\n",
      "Kind of. There is a spatula there.\n",
      "\n",
      "\n",
      "\n",
      "There are 0 results.\n",
      "No results for  transverse flute, trying again.\n",
      "There are 8 results.\n",
      "Using china cabinet as search term\n"
     ]
    },
    {
     "data": {
      "text/html": [
       "<img src=\"https://thumbnails.calisphere.org/clip/150x150/b000a7c6cda9ca1c14051fededccb346\"/>"
      ],
      "text/plain": [
       "<IPython.core.display.Image object>"
      ]
     },
     "metadata": {},
     "output_type": "display_data"
    },
    {
     "name": "stdout",
     "output_type": "stream",
     "text": [
      "https://thumbnails.calisphere.org/clip/150x150/b000a7c6cda9ca1c14051fededccb346\n",
      "monitor (score = 0.20778)\n",
      "screen, CRT screen (score = 0.18870)\n",
      "desktop computer (score = 0.11870)\n",
      "web site, website, internet site, site (score = 0.09812)\n",
      "book jacket, dust cover, dust jacket, dust wrapper (score = 0.04986)\n",
      "hand-held computer, hand-held microcomputer (score = 0.03137)\n",
      "medicine chest, medicine cabinet (score = 0.02755)\n",
      "\n",
      "MANUAL EVALUATION\n",
      "Monitor for the thing with a frame, again.\n",
      "Monitor for the thing with a frame, again.\n",
      "\n",
      "\n",
      "\n"
     ]
    }
   ],
   "source": [
    "for i in range(5):\n",
    "    query_on_random_key()"
   ]
  },
  {
   "cell_type": "code",
   "execution_count": 326,
   "metadata": {
    "collapsed": false,
    "deletable": true,
    "editable": true,
    "scrolled": false
   },
   "outputs": [
    {
     "name": "stdout",
     "output_type": "stream",
     "text": [
      "There are 2 results.\n",
      "Using chickadee as search term\n"
     ]
    },
    {
     "data": {
      "text/html": [
       "<img src=\"https://texashistory.unt.edu/ark:/67531/metapth240236/thumbnail/\"/>"
      ],
      "text/plain": [
       "<IPython.core.display.Image object>"
      ]
     },
     "metadata": {},
     "output_type": "display_data"
    },
    {
     "name": "stdout",
     "output_type": "stream",
     "text": [
      "https://texashistory.unt.edu/ark:/67531/metapth240236/thumbnail/\n",
      "tobacco shop, tobacconist shop, tobacconist (score = 0.16683)\n",
      "scoreboard (score = 0.06820)\n",
      "dogsled, dog sled, dog sleigh (score = 0.05811)\n",
      "redbone (score = 0.05671)\n",
      "Arabian camel, dromedary, Camelus dromedarius (score = 0.03682)\n",
      "container ship, containership, container vessel (score = 0.03557)\n",
      "English foxhound (score = 0.03187)\n",
      "\n",
      "MANUAL EVALUATION\n",
      "God, these subject headings are more comical than  the neural network's mistakes. I gues the name of the horse is BB Chickadee. Hard to believe anyone's about to search on that.\n",
      "God, these subject headings are more comical than  the neural network's mistakes. I gues the name of the horse is BB Chickadee. Hard to believe anyone's about to search on that.\n",
      "\n",
      "\n",
      "\n",
      "There are 74 results.\n",
      "Using ear as search term\n"
     ]
    },
    {
     "data": {
      "text/html": [
       "<img src=\"http://fdlp.gov/images/gpo-tn.jpg\"/>"
      ],
      "text/plain": [
       "<IPython.core.display.Image object>"
      ]
     },
     "metadata": {},
     "output_type": "display_data"
    },
    {
     "name": "stdout",
     "output_type": "stream",
     "text": [
      "http://fdlp.gov/images/gpo-tn.jpg\n",
      "sunscreen, sunblock, sun blocker (score = 0.12094)\n",
      "hair spray (score = 0.04807)\n",
      "web site, website, internet site, site (score = 0.04515)\n",
      "police van, police wagon, paddy wagon, patrol wagon, wagon, black Maria (score = 0.02800)\n",
      "tobacco shop, tobacconist shop, tobacconist (score = 0.02384)\n",
      "ski (score = 0.01377)\n",
      "stopwatch, stop watch (score = 0.01277)\n",
      "\n",
      "MANUAL EVALUATION\n",
      "Thanks, GPO!\n",
      "Thanks, GPO!\n",
      "\n",
      "\n",
      "\n",
      "There are 0 results.\n",
      "No results for  mollymawk, trying again.\n",
      "There are 0 results.\n",
      "No results for redbone, trying again.\n",
      "There are 56 results.\n",
      "Using passenger car as search term\n"
     ]
    },
    {
     "data": {
      "text/html": [
       "<img src=\"http://content.mpl.org/utils/getthumbnail/collection/MilwWaterwa/id/121\"/>"
      ],
      "text/plain": [
       "<IPython.core.display.Image object>"
      ]
     },
     "metadata": {},
     "output_type": "display_data"
    },
    {
     "name": "stdout",
     "output_type": "stream",
     "text": [
      "http://content.mpl.org/utils/getthumbnail/collection/MilwWaterwa/id/121\n",
      "submarine, pigboat, sub, U-boat (score = 0.69006)\n",
      "dock, dockage, docking facility (score = 0.10453)\n",
      "aircraft carrier, carrier, flattop, attack aircraft carrier (score = 0.06153)\n",
      "liner, ocean liner (score = 0.00965)\n",
      "drilling platform, offshore rig (score = 0.00883)\n",
      "lakeside, lakeshore (score = 0.00819)\n",
      "boathouse (score = 0.00772)\n",
      "\n",
      "MANUAL EVALUATION\n",
      "So somehow \"passenger car\" is returning for \"passenger ship.\" VThis is a clipper ship, something Imagenet probably doesn't know about: hence the submarine misidentification\n",
      "So somehow \"passenger car\" is returning for \"passenger ship.\" VThis is a clipper ship, something Imagenet probably doesn't know about: hence the submarine misidentification\n",
      "\n",
      "\n",
      "\n",
      "There are 0 results.\n",
      "No results for  dustbin, trying again.\n",
      "There are 0 results.\n",
      "No results for French loaf, trying again.\n",
      "There are 36 results.\n",
      "Using  ai as search term\n"
     ]
    },
    {
     "data": {
      "text/html": [
       "<img src=\"http://collections.nmnh.si.edu/media/?irn=10305231&thumb=yes\"/>"
      ],
      "text/plain": [
       "<IPython.core.display.Image object>"
      ]
     },
     "metadata": {},
     "output_type": "display_data"
    },
    {
     "name": "stdout",
     "output_type": "stream",
     "text": [
      "http://collections.nmnh.si.edu/media/?irn=10305231&thumb=yes\n",
      "screen, CRT screen (score = 0.54510)\n",
      "hand-held computer, hand-held microcomputer (score = 0.08288)\n",
      "web site, website, internet site, site (score = 0.07677)\n",
      "desktop computer (score = 0.05594)\n",
      "television, television system (score = 0.03158)\n",
      "home theater, home theatre (score = 0.02675)\n",
      "laptop, laptop computer (score = 0.02242)\n",
      "\n",
      "MANUAL EVALUATION\n",
      "I've seen it guess ruler on these ones with the siderules.\n",
      "I've seen it guess ruler on these ones with the siderules.\n",
      "\n",
      "\n",
      "\n",
      "There are 0 results.\n",
      "No results for green snake, trying again.\n",
      "There are 3 results.\n",
      "Using agama as search term\n"
     ]
    },
    {
     "data": {
      "text/html": [
       "<img src=\"http://collections.nmnh.si.edu/media/?irn=11476378&thumb=yes\"/>"
      ],
      "text/plain": [
       "<IPython.core.display.Image object>"
      ]
     },
     "metadata": {},
     "output_type": "display_data"
    },
    {
     "name": "stdout",
     "output_type": "stream",
     "text": [
      "http://collections.nmnh.si.edu/media/?irn=11476378&thumb=yes\n",
      "web site, website, internet site, site (score = 0.29350)\n",
      "lotion (score = 0.09780)\n",
      "book jacket, dust cover, dust jacket, dust wrapper (score = 0.06869)\n",
      "binder, ring-binder (score = 0.05437)\n",
      "fire screen, fireguard (score = 0.03514)\n",
      "safety pin (score = 0.02216)\n",
      "screen, CRT screen (score = 0.02055)\n",
      "\n",
      "MANUAL EVALUATION\n",
      "Again, printed material is a total wash.\n",
      "Again, printed material is a total wash.\n",
      "\n",
      "\n",
      "\n"
     ]
    }
   ],
   "source": [
    "for i in range(5):\n",
    "    query_on_random_key()\n",
    "    "
   ]
  },
  {
   "cell_type": "code",
   "execution_count": null,
   "metadata": {
    "collapsed": false,
    "deletable": true,
    "editable": true
   },
   "outputs": [],
   "source": [
    "def subjects(response):\n",
    "    for doc in response['docs']:\n",
    "        subjects = doc['sourceResource']['subject']\n",
    "        print subjects\n",
    "        for subject in subjects:\n",
    "            print \"name: \", subject['name']\n",
    "    "
   ]
  },
  {
   "cell_type": "code",
   "execution_count": null,
   "metadata": {
    "collapsed": false,
    "deletable": true,
    "editable": true
   },
   "outputs": [],
   "source": [
    "def thumbnail(response):\n",
    "    for doc in response['docs']:\n",
    "        image = doc['object']\n",
    "        identifier = doc['id']\n",
    "        print image, identifier\n",
    "    "
   ]
  },
  {
   "cell_type": "code",
   "execution_count": null,
   "metadata": {
    "collapsed": false,
    "deletable": true,
    "editable": true
   },
   "outputs": [],
   "source": [
    "spatial(response)"
   ]
  },
  {
   "cell_type": "code",
   "execution_count": null,
   "metadata": {
    "collapsed": false,
    "deletable": true,
    "editable": true
   },
   "outputs": [],
   "source": [
    "formats(response)"
   ]
  },
  {
   "cell_type": "code",
   "execution_count": null,
   "metadata": {
    "collapsed": false,
    "deletable": true,
    "editable": true
   },
   "outputs": [],
   "source": [
    "subjects(response)"
   ]
  },
  {
   "cell_type": "code",
   "execution_count": null,
   "metadata": {
    "collapsed": false,
    "deletable": true,
    "editable": true
   },
   "outputs": [],
   "source": [
    "thumbnail(response)"
   ]
  },
  {
   "cell_type": "code",
   "execution_count": null,
   "metadata": {
    "collapsed": false,
    "deletable": true,
    "editable": true
   },
   "outputs": [],
   "source": []
  },
  {
   "cell_type": "code",
   "execution_count": null,
   "metadata": {
    "collapsed": false,
    "deletable": true,
    "editable": true
   },
   "outputs": [],
   "source": [
    "display(Image(url=\"http://ark.digitalcommonwealth.org/ark:/50959/pk02ct663/thumbnail\"))\n",
    "display(Image(url=\"https://fedora.digitalcommonwealth.org/fedofdra/objects/commonwealth:pk02ct67c/datastreams/access800/content\"))\n",
    "\n"
   ]
  },
  {
   "cell_type": "code",
   "execution_count": null,
   "metadata": {
    "collapsed": false,
    "deletable": true,
    "editable": true
   },
   "outputs": [],
   "source": [
    "import shutil\n",
    "url = \"http://ark.digitalcommonwealth.org/ark:/50959/pk02ct663/thumbnail\"\n",
    "r = requests.get(\"http://ark.digitalcommonwealth.org/ark:/50959/pk02ct663/thumbnail\", stream=True)\n",
    "if r.status_code == 200:\n",
    "    with open(path, 'wb') as f:\n",
    "        r.raw.decode_content = True\n",
    "        shutil.copyfileobj(r.raw, f) "
   ]
  },
  {
   "cell_type": "code",
   "execution_count": null,
   "metadata": {
    "collapsed": false,
    "deletable": true,
    "editable": true
   },
   "outputs": [],
   "source": [
    "Image(url=url)"
   ]
  }
 ],
 "metadata": {
  "kernelspec": {
   "display_name": "Python 2",
   "language": "python",
   "name": "python2"
  },
  "language_info": {
   "codemirror_mode": {
    "name": "ipython",
    "version": 2
   },
   "file_extension": ".py",
   "mimetype": "text/x-python",
   "name": "python",
   "nbconvert_exporter": "python",
   "pygments_lexer": "ipython2",
   "version": "2.7.12"
  }
 },
 "nbformat": 4,
 "nbformat_minor": 0
}
